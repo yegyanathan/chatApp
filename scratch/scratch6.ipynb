{
 "cells": [
  {
   "cell_type": "code",
   "execution_count": 145,
   "metadata": {},
   "outputs": [],
   "source": [
    "from fastapi import FastAPI, File, UploadFile, HTTPException, Depends\n",
    "from fastapi.responses import JSONResponse\n",
    "from typing import List\n",
    "import shutil\n",
    "import os\n",
    "from langchain_milvus import Milvus\n",
    "from langchain_groq import ChatGroq\n",
    "from langchain_huggingface import HuggingFaceEmbeddings\n",
    "from langchain_milvus import Milvus\n",
    "from langchain_community.tools import TavilySearchResults\n",
    "from langgraph.graph import StateGraph, START, END, MessagesState\n",
    "from langgraph.graph.state import CompiledStateGraph\n",
    "from pydantic import BaseModel\n",
    "from typing import Optional\n",
    "from langchain_docling import DoclingLoader\n",
    "from langchain_docling.loader import ExportType\n",
    "from docling.chunking import HybridChunker\n",
    "from contextlib import asynccontextmanager\n",
    "from models import UploadResponse, DeleteResponse, ChatRequest, ChatResponse\n",
    "import sqlite3\n",
    "from langgraph.checkpoint.sqlite import SqliteSaver\n",
    "import aiosqlite\n",
    "from langchain.schema import HumanMessage, AIMessage, SystemMessage"
   ]
  },
  {
   "cell_type": "code",
   "execution_count": 146,
   "metadata": {},
   "outputs": [],
   "source": [
    "import os\n",
    "\n",
    "os.environ[\"GROQ_API_KEY\"] = \"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\"\n",
    "os.environ[\"TAVILY_API_KEY\"] = \"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\""
   ]
  },
  {
   "cell_type": "code",
   "execution_count": 148,
   "metadata": {},
   "outputs": [],
   "source": [
    "\n",
    "llm = ChatGroq(temperature=0, model_name=\"mixtral-8x7b-32768\")\n",
    "\n",
    "vector_store = Milvus(\n",
    "    embedding_function=HuggingFaceEmbeddings(model_name=\"sentence-transformers/all-MiniLM-L6-v2\"),\n",
    "    connection_args={\"uri\": \"./milvus_example.db\"},\n",
    "    index_params={\"index_type\": \"FLAT\", \"metric_type\": \"L2\"},\n",
    "    auto_id=True\n",
    ")\n",
    "\n",
    "web_search = TavilySearchResults(\n",
    "    max_results=1,\n",
    "    search_depth=\"advanced\",\n",
    "    include_answer=True,\n",
    "    include_raw_content=True,\n",
    "    include_images=True\n",
    ")\n",
    "\n",
    "class ChatState(MessagesState):\n",
    "    use_rag: bool = False\n",
    "    use_web_search: bool = False\n",
    "    rag_context: str = \"\"\n",
    "    web_context: str = \"\"\n",
    "\n",
    "def router(state: ChatState):\n",
    "    use_rag = state[\"use_rag\"]\n",
    "    use_web_search = state[\"use_web_search\"]\n",
    "    if use_rag and use_web_search:\n",
    "        return [\"rag_node\", \"web_search_node\"]\n",
    "    elif use_rag:\n",
    "        return [\"rag_node\"]\n",
    "    if use_web_search:\n",
    "        return [\"web_search_node\"]\n",
    "    else:\n",
    "        return [\"llm_node\"]\n",
    "        \n",
    "def rag_node(state: ChatState):\n",
    "    \"\"\"Retrieve context from vector database.\"\"\"\n",
    "    query = state[\"messages\"][-1].content\n",
    "    context = vector_store.similarity_search(query, k=3)\n",
    "    context = \"\\n\".join([doc.page_content for doc in context])\n",
    "    return {\"rag_context\": context}\n",
    "    \n",
    "def web_search_node(state: ChatState):\n",
    "    \"\"\"Retrieve context from web search.\"\"\"\n",
    "    query = state[\"messages\"][-1].content\n",
    "    context = web_search.run(query)[0]['content']\n",
    "    return {\"web_context\": context}\n",
    "\n",
    "\n",
    "def llm_node(state: ChatState):\n",
    "    \"\"\"Generate response using LLM while maintaining conversation history.\"\"\"\n",
    "    print(state)\n",
    "    if state[\"rag_context\"]:\n",
    "        state[\"messages\"].append(SystemMessage(f\"RAG Context: {state['rag_context']}\"))\n",
    "    if state[\"web_context\"]:\n",
    "        state[\"messages\"].append(SystemMessage(f\"Web Context: {state['web_context']}\"))\n",
    "    response = llm.invoke(state[\"messages\"])\n",
    "    # Update message history with response:\n",
    "    return {\"messages\": [response]}"
   ]
  },
  {
   "cell_type": "code",
   "execution_count": 149,
   "metadata": {},
   "outputs": [
    {
     "data": {
      "image/png": "[encoded data removed]",
      "text/plain": [
       "<langgraph.graph.state.CompiledStateGraph object at 0x2e391f350>"
      ]
     },
     "execution_count": 149,
     "metadata": {},
     "output_type": "execute_result"
    }
   ],
   "source": [
    "conn = sqlite3.connect(\"checkpoints.sqlite\", check_same_thread=False)\n",
    "memory = SqliteSaver(conn)\n",
    "\n",
    "graph = StateGraph(ChatState)\n",
    "graph.add_node(\"rag_node\", rag_node)\n",
    "graph.add_node(\"web_search_node\", web_search_node)\n",
    "graph.add_node(\"llm_node\", llm_node)\n",
    "# Define edges\n",
    "graph.add_conditional_edges(START, router)\n",
    "graph.add_edge(\"rag_node\", \"llm_node\")\n",
    "graph.add_edge(\"web_search_node\", \"llm_node\")\n",
    "graph.add_edge(\"llm_node\", END)\n",
    "cgraph = graph.compile(checkpointer=memory)\n",
    "cgraph"
   ]
  },
  {
   "cell_type": "code",
   "execution_count": 150,
   "metadata": {},
   "outputs": [
    {
     "data": {
      "text/plain": [
       "'Hi'"
      ]
     },
     "execution_count": 150,
     "metadata": {},
     "output_type": "execute_result"
    }
   ],
   "source": [
    "input_messages = [HumanMessage(\"Hi\")]\n",
    "input_messages[-1].content"
   ]
  },
  {
   "cell_type": "code",
   "execution_count": 151,
   "metadata": {},
   "outputs": [
    {
     "data": {
      "text/plain": [
       "{'use_rag': False,\n",
       " 'use_web_search': True,\n",
       " 'messages': [HumanMessage(content='Who is the current chief minister of delhi?', additional_kwargs={}, response_metadata={})],\n",
       " 'rag_context': '',\n",
       " 'web_context': ''}"
      ]
     },
     "execution_count": 151,
     "metadata": {},
     "output_type": "execute_result"
    }
   ],
   "source": [
    "input_messages = [HumanMessage(\"Who is the current chief minister of delhi?\")]\n",
    "state = ChatState(use_rag=False, use_web_search=True, messages=input_messages, rag_context=\"\", web_context=\"\")\n",
    "state"
   ]
  },
  {
   "cell_type": "code",
   "execution_count": 152,
   "metadata": {},
   "outputs": [
    {
     "name": "stdout",
     "output_type": "stream",
     "text": [
      "{'messages': [HumanMessage(content='Who is the current chief minister of delhi?', additional_kwargs={}, response_metadata={}, id='9028a7bf-43ad-4632-a84d-0259db227f96')], 'use_rag': False, 'use_web_search': True, 'rag_context': '', 'web_context': \"Delhi CM List: Chief Ministers of Delhi Party Names and Tenure till 2024 Following that, elections are held every five years to elect Delhi's Chief Minister. The current Chief Minister of New Delhi was Shri Arvind Kejriwal, who resigned from his position on September 15, 2024. List of Chief Minister of Delhi with Party Name and Work Duration Here is a list of Delhi's Chief Ministers, along with their party names and terms in office. He became the Chief Minister of Delhi on December 2, 1993, serving until February 26, 1996. Reiterating the AAP's call for early elections in Delhi, party leader Gopal Rai said Tuesday that Atishi will serve as chief minister until Arvind Kejriwal is re-elected with a large majority.\"}\n"
     ]
    }
   ],
   "source": [
    "config = {\"configurable\": {\"thread_id\": \"1\"}}\n",
    "output = cgraph.invoke(input=state, config=config)"
   ]
  },
  {
   "cell_type": "code",
   "execution_count": 153,
   "metadata": {},
   "outputs": [
    {
     "data": {
      "text/plain": [
       "{'messages': [HumanMessage(content='Who is the current chief minister of delhi?', additional_kwargs={}, response_metadata={}, id='9028a7bf-43ad-4632-a84d-0259db227f96'),\n",
       "  SystemMessage(content=\"Web Context: Delhi CM List: Chief Ministers of Delhi Party Names and Tenure till 2024 Following that, elections are held every five years to elect Delhi's Chief Minister. The current Chief Minister of New Delhi was Shri Arvind Kejriwal, who resigned from his position on September 15, 2024. List of Chief Minister of Delhi with Party Name and Work Duration Here is a list of Delhi's Chief Ministers, along with their party names and terms in office. He became the Chief Minister of Delhi on December 2, 1993, serving until February 26, 1996. Reiterating the AAP's call for early elections in Delhi, party leader Gopal Rai said Tuesday that Atishi will serve as chief minister until Arvind Kejriwal is re-elected with a large majority.\", additional_kwargs={}, response_metadata={}, id='77edfb33-14e5-4762-8b32-21c732683a7c'),\n",
       "  AIMessage(content='Based on the information provided, Arvind Kejriwal was the Chief Minister of Delhi before resigning on September 15, 2024. However, according to the most recent update, Atishi will serve as the interim Chief Minister until Arvind Kejriwal is re-elected with a majority. Therefore, as of now, Atishi is the acting Chief Minister of Delhi. Please note that this information is based on the provided context and may change over time.', additional_kwargs={}, response_metadata={'token_usage': {'completion_tokens': 104, 'prompt_tokens': 208, 'total_tokens': 312, 'completion_time': 0.160452027, 'prompt_time': 0.013196323, 'queue_time': 0.019771002, 'total_time': 0.17364835}, 'model_name': 'mixtral-8x7b-32768', 'system_fingerprint': 'fp_c5f20b5bb1', 'finish_reason': 'stop', 'logprobs': None}, id='run-ce79fdd8-88cf-4711-8a4d-e58173620a23-0', usage_metadata={'input_tokens': 208, 'output_tokens': 104, 'total_tokens': 312})],\n",
       " 'use_rag': False,\n",
       " 'use_web_search': True,\n",
       " 'rag_context': '',\n",
       " 'web_context': \"Delhi CM List: Chief Ministers of Delhi Party Names and Tenure till 2024 Following that, elections are held every five years to elect Delhi's Chief Minister. The current Chief Minister of New Delhi was Shri Arvind Kejriwal, who resigned from his position on September 15, 2024. List of Chief Minister of Delhi with Party Name and Work Duration Here is a list of Delhi's Chief Ministers, along with their party names and terms in office. He became the Chief Minister of Delhi on December 2, 1993, serving until February 26, 1996. Reiterating the AAP's call for early elections in Delhi, party leader Gopal Rai said Tuesday that Atishi will serve as chief minister until Arvind Kejriwal is re-elected with a large majority.\"}"
      ]
     },
     "execution_count": 153,
     "metadata": {},
     "output_type": "execute_result"
    }
   ],
   "source": [
    "output"
   ]
  },
  {
   "cell_type": "code",
   "execution_count": 115,
   "metadata": {},
   "outputs": [
    {
     "data": {
      "text/plain": [
       "{'use_rag': False,\n",
       " 'use_web_search': False,\n",
       " 'messages': [HumanMessage(content='who are the two people you named?', additional_kwargs={}, response_metadata={})],\n",
       " 'rag_context': '',\n",
       " 'web_context': ''}"
      ]
     },
     "execution_count": 115,
     "metadata": {},
     "output_type": "execute_result"
    }
   ],
   "source": [
    "input_messages = [HumanMessage(\"who are the two people you named?\")]\n",
    "state = ChatState(use_rag=False, use_web_search=False, messages=input_messages, rag_context=\"\", web_context=\"\")\n",
    "state"
   ]
  },
  {
   "cell_type": "code",
   "execution_count": 116,
   "metadata": {},
   "outputs": [
    {
     "name": "stdout",
     "output_type": "stream",
     "text": [
      "{'messages': [HumanMessage(content='Who is the current chief minister of delhi?', additional_kwargs={}, response_metadata={}, id='e3ff6d5c-a04e-4d4b-9a46-19587f69a623'), SystemMessage(content=\"Web Context: Delhi CM Name Announcement: The Bharatiya Janata Party elected MLA Rekha Gupta as the next chief minister of Delhi in a Legislature Party meeting today. The party has come to power in the national capital after a gap of 27 years. Virendra Sachdeva, BJP's Delhi unit chief, is said to have visited the iconic Ramlila Maidan on Tuesday to monitor the preparations.\", additional_kwargs={}, response_metadata={}, id='99a6eac0-aa94-4505-811f-64db108bf125'), AIMessage(content='As of the information provided in the web context, the current chief minister of Delhi is Arvind Kejriwal, who is a member of the Aam Aadmi Party (AAP). However, the context states that the Bharatiya Janata Party (BJP) has elected Rekha Gupta as the next chief minister of Delhi. This suggests that there will be a change in the chief minister of Delhi, and Rekha Gupta will take over the position from Arvind Kejriwal. It is important to note that this information is based on the web context provided and may not be up-to-date or accurate. It is always a good idea to check multiple sources and verify the information before making any conclusions.', additional_kwargs={}, response_metadata={'token_usage': {'completion_tokens': 159, 'prompt_tokens': 117, 'total_tokens': 276, 'completion_time': 0.244562467, 'prompt_time': 0.007376625, 'queue_time': 0.016863942, 'total_time': 0.251939092}, 'model_name': 'mixtral-8x7b-32768', 'system_fingerprint': 'fp_c5f20b5bb1', 'finish_reason': 'stop', 'logprobs': None}, id='run-6d715233-b600-4f9a-a6f9-19edb876e45a-0', usage_metadata={'input_tokens': 117, 'output_tokens': 159, 'total_tokens': 276}), HumanMessage(content='who are the two people you named?', additional_kwargs={}, response_metadata={}, id='4c408491-29ce-4e36-a17e-4e2fa3587802')], 'use_rag': False, 'use_web_search': False, 'rag_context': '', 'web_context': ''}\n"
     ]
    }
   ],
   "source": [
    "config = {\"configurable\": {\"thread_id\": \"1\"}}\n",
    "output = cgraph.invoke(input=state, config=config)"
   ]
  },
  {
   "cell_type": "code",
   "execution_count": 117,
   "metadata": {},
   "outputs": [
    {
     "data": {
      "text/plain": [
       "{'messages': [HumanMessage(content='Who is the current chief minister of delhi?', additional_kwargs={}, response_metadata={}, id='e3ff6d5c-a04e-4d4b-9a46-19587f69a623'),\n",
       "  SystemMessage(content=\"Web Context: Delhi CM Name Announcement: The Bharatiya Janata Party elected MLA Rekha Gupta as the next chief minister of Delhi in a Legislature Party meeting today. The party has come to power in the national capital after a gap of 27 years. Virendra Sachdeva, BJP's Delhi unit chief, is said to have visited the iconic Ramlila Maidan on Tuesday to monitor the preparations.\", additional_kwargs={}, response_metadata={}, id='99a6eac0-aa94-4505-811f-64db108bf125'),\n",
       "  AIMessage(content='As of the information provided in the web context, the current chief minister of Delhi is Arvind Kejriwal, who is a member of the Aam Aadmi Party (AAP). However, the context states that the Bharatiya Janata Party (BJP) has elected Rekha Gupta as the next chief minister of Delhi. This suggests that there will be a change in the chief minister of Delhi, and Rekha Gupta will take over the position from Arvind Kejriwal. It is important to note that this information is based on the web context provided and may not be up-to-date or accurate. It is always a good idea to check multiple sources and verify the information before making any conclusions.', additional_kwargs={}, response_metadata={'token_usage': {'completion_tokens': 159, 'prompt_tokens': 117, 'total_tokens': 276, 'completion_time': 0.244562467, 'prompt_time': 0.007376625, 'queue_time': 0.016863942, 'total_time': 0.251939092}, 'model_name': 'mixtral-8x7b-32768', 'system_fingerprint': 'fp_c5f20b5bb1', 'finish_reason': 'stop', 'logprobs': None}, id='run-6d715233-b600-4f9a-a6f9-19edb876e45a-0', usage_metadata={'input_tokens': 117, 'output_tokens': 159, 'total_tokens': 276}),\n",
       "  HumanMessage(content='who are the two people you named?', additional_kwargs={}, response_metadata={}, id='4c408491-29ce-4e36-a17e-4e2fa3587802'),\n",
       "  AIMessage(content='I apologize for any confusion. In my previous response, I mentioned two people: Arvind Kejriwal and Rekha Gupta.\\n\\nArvind Kejriwal is the current chief minister of Delhi, as of the information provided in the web context. He is a member of the Aam Aadmi Party (AAP) and has been serving as the chief minister of Delhi since February 2015.\\n\\nRekha Gupta is the person named in the web context as the next chief minister of Delhi. She is a member of the Bharatiya Janata Party (BJP) and was elected as the next chief minister of Delhi in a Legislature Party meeting.\\n\\nIt is important to note that this information is based on the web context provided and may not be up-to-date or accurate. It is always a good idea to check multiple sources and verify the information before making any conclusions.', additional_kwargs={}, response_metadata={'token_usage': {'completion_tokens': 201, 'prompt_tokens': 291, 'total_tokens': 492, 'completion_time': 0.309227077, 'prompt_time': 0.014762662, 'queue_time': 0.019446583, 'total_time': 0.323989739}, 'model_name': 'mixtral-8x7b-32768', 'system_fingerprint': 'fp_c5f20b5bb1', 'finish_reason': 'stop', 'logprobs': None}, id='run-184e20a9-9b06-4632-b21e-3a25afd55f2c-0', usage_metadata={'input_tokens': 291, 'output_tokens': 201, 'total_tokens': 492})],\n",
       " 'use_rag': False,\n",
       " 'use_web_search': False,\n",
       " 'rag_context': '',\n",
       " 'web_context': ''}"
      ]
     },
     "execution_count": 117,
     "metadata": {},
     "output_type": "execute_result"
    }
   ],
   "source": [
    "output"
   ]
  },
  {
   "cell_type": "code",
   "execution_count": 118,
   "metadata": {},
   "outputs": [
    {
     "data": {
      "text/plain": [
       "{'use_rag': False,\n",
       " 'use_web_search': False,\n",
       " 'messages': [HumanMessage(content='whom should i vote for?', additional_kwargs={}, response_metadata={})],\n",
       " 'rag_context': '',\n",
       " 'web_context': ''}"
      ]
     },
     "execution_count": 118,
     "metadata": {},
     "output_type": "execute_result"
    }
   ],
   "source": [
    "input_messages = [HumanMessage(\"whom should i vote for?\")]\n",
    "state = ChatState(use_rag=False, use_web_search=False, messages=input_messages, rag_context=\"\", web_context=\"\")\n",
    "state"
   ]
  },
  {
   "cell_type": "code",
   "execution_count": 119,
   "metadata": {},
   "outputs": [
    {
     "name": "stdout",
     "output_type": "stream",
     "text": [
      "{'messages': [HumanMessage(content='Who is the current chief minister of delhi?', additional_kwargs={}, response_metadata={}, id='e3ff6d5c-a04e-4d4b-9a46-19587f69a623'), SystemMessage(content=\"Web Context: Delhi CM Name Announcement: The Bharatiya Janata Party elected MLA Rekha Gupta as the next chief minister of Delhi in a Legislature Party meeting today. The party has come to power in the national capital after a gap of 27 years. Virendra Sachdeva, BJP's Delhi unit chief, is said to have visited the iconic Ramlila Maidan on Tuesday to monitor the preparations.\", additional_kwargs={}, response_metadata={}, id='99a6eac0-aa94-4505-811f-64db108bf125'), AIMessage(content='As of the information provided in the web context, the current chief minister of Delhi is Arvind Kejriwal, who is a member of the Aam Aadmi Party (AAP). However, the context states that the Bharatiya Janata Party (BJP) has elected Rekha Gupta as the next chief minister of Delhi. This suggests that there will be a change in the chief minister of Delhi, and Rekha Gupta will take over the position from Arvind Kejriwal. It is important to note that this information is based on the web context provided and may not be up-to-date or accurate. It is always a good idea to check multiple sources and verify the information before making any conclusions.', additional_kwargs={}, response_metadata={'token_usage': {'completion_tokens': 159, 'prompt_tokens': 117, 'total_tokens': 276, 'completion_time': 0.244562467, 'prompt_time': 0.007376625, 'queue_time': 0.016863942, 'total_time': 0.251939092}, 'model_name': 'mixtral-8x7b-32768', 'system_fingerprint': 'fp_c5f20b5bb1', 'finish_reason': 'stop', 'logprobs': None}, id='run-6d715233-b600-4f9a-a6f9-19edb876e45a-0', usage_metadata={'input_tokens': 117, 'output_tokens': 159, 'total_tokens': 276}), HumanMessage(content='who are the two people you named?', additional_kwargs={}, response_metadata={}, id='4c408491-29ce-4e36-a17e-4e2fa3587802'), AIMessage(content='I apologize for any confusion. In my previous response, I mentioned two people: Arvind Kejriwal and Rekha Gupta.\\n\\nArvind Kejriwal is the current chief minister of Delhi, as of the information provided in the web context. He is a member of the Aam Aadmi Party (AAP) and has been serving as the chief minister of Delhi since February 2015.\\n\\nRekha Gupta is the person named in the web context as the next chief minister of Delhi. She is a member of the Bharatiya Janata Party (BJP) and was elected as the next chief minister of Delhi in a Legislature Party meeting.\\n\\nIt is important to note that this information is based on the web context provided and may not be up-to-date or accurate. It is always a good idea to check multiple sources and verify the information before making any conclusions.', additional_kwargs={}, response_metadata={'token_usage': {'completion_tokens': 201, 'prompt_tokens': 291, 'total_tokens': 492, 'completion_time': 0.309227077, 'prompt_time': 0.014762662, 'queue_time': 0.019446583, 'total_time': 0.323989739}, 'model_name': 'mixtral-8x7b-32768', 'system_fingerprint': 'fp_c5f20b5bb1', 'finish_reason': 'stop', 'logprobs': None}, id='run-184e20a9-9b06-4632-b21e-3a25afd55f2c-0', usage_metadata={'input_tokens': 291, 'output_tokens': 201, 'total_tokens': 492}), HumanMessage(content='whom should i vote for?', additional_kwargs={}, response_metadata={}, id='54afea93-bafb-4da0-a6d2-8b5fb39e55d8')], 'use_rag': False, 'use_web_search': False, 'rag_context': '', 'web_context': ''}\n"
     ]
    }
   ],
   "source": [
    "config = {\"configurable\": {\"thread_id\": \"1\"}}\n",
    "output = cgraph.invoke(input=state, config=config)"
   ]
  },
  {
   "cell_type": "code",
   "execution_count": 132,
   "metadata": {},
   "outputs": [
    {
     "data": {
      "text/plain": [
       "{'messages': [HumanMessage(content='Who is the current chief minister of delhi?', additional_kwargs={}, response_metadata={}, id='e3ff6d5c-a04e-4d4b-9a46-19587f69a623'),\n",
       "  SystemMessage(content=\"Web Context: Delhi CM Name Announcement: The Bharatiya Janata Party elected MLA Rekha Gupta as the next chief minister of Delhi in a Legislature Party meeting today. The party has come to power in the national capital after a gap of 27 years. Virendra Sachdeva, BJP's Delhi unit chief, is said to have visited the iconic Ramlila Maidan on Tuesday to monitor the preparations.\", additional_kwargs={}, response_metadata={}, id='99a6eac0-aa94-4505-811f-64db108bf125'),\n",
       "  AIMessage(content='As of the information provided in the web context, the current chief minister of Delhi is Arvind Kejriwal, who is a member of the Aam Aadmi Party (AAP). However, the context states that the Bharatiya Janata Party (BJP) has elected Rekha Gupta as the next chief minister of Delhi. This suggests that there will be a change in the chief minister of Delhi, and Rekha Gupta will take over the position from Arvind Kejriwal. It is important to note that this information is based on the web context provided and may not be up-to-date or accurate. It is always a good idea to check multiple sources and verify the information before making any conclusions.', additional_kwargs={}, response_metadata={'token_usage': {'completion_tokens': 159, 'prompt_tokens': 117, 'total_tokens': 276, 'completion_time': 0.244562467, 'prompt_time': 0.007376625, 'queue_time': 0.016863942, 'total_time': 0.251939092}, 'model_name': 'mixtral-8x7b-32768', 'system_fingerprint': 'fp_c5f20b5bb1', 'finish_reason': 'stop', 'logprobs': None}, id='run-6d715233-b600-4f9a-a6f9-19edb876e45a-0', usage_metadata={'input_tokens': 117, 'output_tokens': 159, 'total_tokens': 276}),\n",
       "  HumanMessage(content='who are the two people you named?', additional_kwargs={}, response_metadata={}, id='4c408491-29ce-4e36-a17e-4e2fa3587802'),\n",
       "  AIMessage(content='I apologize for any confusion. In my previous response, I mentioned two people: Arvind Kejriwal and Rekha Gupta.\\n\\nArvind Kejriwal is the current chief minister of Delhi, as of the information provided in the web context. He is a member of the Aam Aadmi Party (AAP) and has been serving as the chief minister of Delhi since February 2015.\\n\\nRekha Gupta is the person named in the web context as the next chief minister of Delhi. She is a member of the Bharatiya Janata Party (BJP) and was elected as the next chief minister of Delhi in a Legislature Party meeting.\\n\\nIt is important to note that this information is based on the web context provided and may not be up-to-date or accurate. It is always a good idea to check multiple sources and verify the information before making any conclusions.', additional_kwargs={}, response_metadata={'token_usage': {'completion_tokens': 201, 'prompt_tokens': 291, 'total_tokens': 492, 'completion_time': 0.309227077, 'prompt_time': 0.014762662, 'queue_time': 0.019446583, 'total_time': 0.323989739}, 'model_name': 'mixtral-8x7b-32768', 'system_fingerprint': 'fp_c5f20b5bb1', 'finish_reason': 'stop', 'logprobs': None}, id='run-184e20a9-9b06-4632-b21e-3a25afd55f2c-0', usage_metadata={'input_tokens': 291, 'output_tokens': 201, 'total_tokens': 492}),\n",
       "  HumanMessage(content='whom should i vote for?', additional_kwargs={}, response_metadata={}, id='54afea93-bafb-4da0-a6d2-8b5fb39e55d8'),\n",
       "  AIMessage(content=\"I am an artificial intelligence language model and do not have personal opinions or the ability to vote. It is up to each individual to make their own decision about who to vote for based on their own values, beliefs, and research.\\n\\nWhen deciding who to vote for, it can be helpful to consider the following factors:\\n\\n* The candidate's stance on issues that are important to you\\n* The candidate's experience and qualifications\\n* The candidate's track record and past performance\\n* The candidate's character and integrity\\n* The candidate's vision for the future\\n\\nIt is also a good idea to research the candidate's platform and policies, as well as their background and any controversies they may have been involved in. It can also be helpful to attend debates or forums where the candidates are present and to ask them questions directly.\\n\\nUltimately, the decision about who to vote for is a personal one and should be based on careful consideration and research.\", additional_kwargs={}, response_metadata={'token_usage': {'completion_tokens': 206, 'prompt_tokens': 505, 'total_tokens': 711, 'completion_time': 0.318072095, 'prompt_time': 0.056894072, 'queue_time': 0.020291469, 'total_time': 0.374966167}, 'model_name': 'mixtral-8x7b-32768', 'system_fingerprint': 'fp_c5f20b5bb1', 'finish_reason': 'stop', 'logprobs': None}, id='run-7af83915-a2a0-420d-ab1f-a21d567c13fd-0', usage_metadata={'input_tokens': 505, 'output_tokens': 206, 'total_tokens': 711})],\n",
       " 'use_rag': False,\n",
       " 'use_web_search': False,\n",
       " 'rag_context': '',\n",
       " 'web_context': ''}"
      ]
     },
     "execution_count": 132,
     "metadata": {},
     "output_type": "execute_result"
    }
   ],
   "source": [
    "output"
   ]
  },
  {
   "cell_type": "code",
   "execution_count": 144,
   "metadata": {},
   "outputs": [
    {
     "name": "stdout",
     "output_type": "stream",
     "text": [
      "HUMAN: \n",
      "Who is the current chief minister of delhi?\n",
      "\n",
      "SYSTEM: \n",
      "Web Context: Delhi CM Name Announcement: The Bharatiya Janata Party elected MLA Rekha Gupta as the next chief minister of Delhi in a Legislature Party meeting today. The party has come to power in the national capital after a gap of 27 years. Virendra Sachdeva, BJP's Delhi unit chief, is said to have visited the iconic Ramlila Maidan on Tuesday to monitor the preparations.\n",
      "\n",
      "AI: \n",
      "As of the information provided in the web context, the current chief minister of Delhi is Arvind Kejriwal, who is a member of the Aam Aadmi Party (AAP). However, the context states that the Bharatiya Janata Party (BJP) has elected Rekha Gupta as the next chief minister of Delhi. This suggests that there will be a change in the chief minister of Delhi, and Rekha Gupta will take over the position from Arvind Kejriwal. It is important to note that this information is based on the web context provided and may not be up-to-date or accurate. It is always a good idea to check multiple sources and verify the information before making any conclusions.\n",
      "\n",
      "HUMAN: \n",
      "who are the two people you named?\n",
      "\n",
      "AI: \n",
      "I apologize for any confusion. In my previous response, I mentioned two people: Arvind Kejriwal and Rekha Gupta.\n",
      "\n",
      "Arvind Kejriwal is the current chief minister of Delhi, as of the information provided in the web context. He is a member of the Aam Aadmi Party (AAP) and has been serving as the chief minister of Delhi since February 2015.\n",
      "\n",
      "Rekha Gupta is the person named in the web context as the next chief minister of Delhi. She is a member of the Bharatiya Janata Party (BJP) and was elected as the next chief minister of Delhi in a Legislature Party meeting.\n",
      "\n",
      "It is important to note that this information is based on the web context provided and may not be up-to-date or accurate. It is always a good idea to check multiple sources and verify the information before making any conclusions.\n",
      "\n",
      "HUMAN: \n",
      "whom should i vote for?\n",
      "\n",
      "AI: \n",
      "I am an artificial intelligence language model and do not have personal opinions or the ability to vote. It is up to each individual to make their own decision about who to vote for based on their own values, beliefs, and research.\n",
      "\n",
      "When deciding who to vote for, it can be helpful to consider the following factors:\n",
      "\n",
      "* The candidate's stance on issues that are important to you\n",
      "* The candidate's experience and qualifications\n",
      "* The candidate's track record and past performance\n",
      "* The candidate's character and integrity\n",
      "* The candidate's vision for the future\n",
      "\n",
      "It is also a good idea to research the candidate's platform and policies, as well as their background and any controversies they may have been involved in. It can also be helpful to attend debates or forums where the candidates are present and to ask them questions directly.\n",
      "\n",
      "Ultimately, the decision about who to vote for is a personal one and should be based on careful consideration and research.\n",
      "\n"
     ]
    }
   ],
   "source": [
    "import langchain_core\n",
    "\n",
    "l = [(type(message), message.content) for message in cgraph.get_state(config).values[\"messages\"]]\n",
    "\n",
    "for item in l:\n",
    "    if item[0] == HumanMessage:\n",
    "        print(f\"HUMAN: \\n{item[1]}\\n\")\n",
    "    elif item[0] == AIMessage:\n",
    "        print(f\"AI: \\n{item[1]}\\n\")\n",
    "    elif item[0] == SystemMessage:\n",
    "        print(f\"SYSTEM: \\n{item[1]}\\n\")"
   ]
  },
  {
   "cell_type": "code",
   "execution_count": 133,
   "metadata": {},
   "outputs": [
    {
     "data": {
      "text/plain": [
       "{langchain_core.messages.human.HumanMessage: 'whom should i vote for?',\n",
       " langchain_core.messages.system.SystemMessage: \"Web Context: Delhi CM Name Announcement: The Bharatiya Janata Party elected MLA Rekha Gupta as the next chief minister of Delhi in a Legislature Party meeting today. The party has come to power in the national capital after a gap of 27 years. Virendra Sachdeva, BJP's Delhi unit chief, is said to have visited the iconic Ramlila Maidan on Tuesday to monitor the preparations.\",\n",
       " langchain_core.messages.ai.AIMessage: \"I am an artificial intelligence language model and do not have personal opinions or the ability to vote. It is up to each individual to make their own decision about who to vote for based on their own values, beliefs, and research.\\n\\nWhen deciding who to vote for, it can be helpful to consider the following factors:\\n\\n* The candidate's stance on issues that are important to you\\n* The candidate's experience and qualifications\\n* The candidate's track record and past performance\\n* The candidate's character and integrity\\n* The candidate's vision for the future\\n\\nIt is also a good idea to research the candidate's platform and policies, as well as their background and any controversies they may have been involved in. It can also be helpful to attend debates or forums where the candidates are present and to ask them questions directly.\\n\\nUltimately, the decision about who to vote for is a personal one and should be based on careful consideration and research.\"}"
      ]
     },
     "execution_count": 133,
     "metadata": {},
     "output_type": "execute_result"
    }
   ],
   "source": [
    "{type(message): message.content for message in cgraph.get_state(config).values[\"messages\"]}"
   ]
  },
  {
   "cell_type": "code",
   "execution_count": null,
   "metadata": {},
   "outputs": [],
   "source": []
  }
 ],
 "metadata": {
  "kernelspec": {
   "display_name": "chatapp",
   "language": "python",
   "name": "python3"
  },
  "language_info": {
   "codemirror_mode": {
    "name": "ipython",
    "version": 3
   },
   "file_extension": ".py",
   "mimetype": "text/x-python",
   "name": "python",
   "nbconvert_exporter": "python",
   "pygments_lexer": "ipython3",
   "version": "3.11.11"
  }
 },
 "nbformat": 4,
 "nbformat_minor": 2
}
