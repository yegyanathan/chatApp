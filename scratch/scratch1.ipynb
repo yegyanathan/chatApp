{
 "cells": [
  {
   "cell_type": "code",
   "execution_count": 1,
   "metadata": {},
   "outputs": [],
   "source": [
    "import os\n",
    "\n",
    "os.environ[\"GROQ_API_KEY\"] = \"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\"\n",
    "os.environ[\"TAVILY_API_KEY\"] = \"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\""
   ]
  },
  {
   "cell_type": "code",
   "execution_count": 2,
   "metadata": {},
   "outputs": [
    {
     "name": "stderr",
     "output_type": "stream",
     "text": [
      "/var/folders/36/1q0jwbc57bg77709s9zkjv100000gn/T/ipykernel_33251/87943435.py:20: LangChainDeprecationWarning: The class `HuggingFaceEmbeddings` was deprecated in LangChain 0.2.2 and will be removed in 1.0. An updated version of the class exists in the :class:`~langchain-huggingface package and should be used instead. To use it run `pip install -U :class:`~langchain-huggingface` and import as `from :class:`~langchain_huggingface import HuggingFaceEmbeddings``.\n",
      "  embeddings = HuggingFaceEmbeddings(model_name=\"sentence-transformers/all-MiniLM-L6-v2\")\n",
      "/Users/yegyanathanv/anaconda3/envs/chatapp/lib/python3.11/site-packages/tqdm/auto.py:21: TqdmWarning: IProgress not found. Please update jupyter and ipywidgets. See https://ipywidgets.readthedocs.io/en/stable/user_install.html\n",
      "  from .autonotebook import tqdm as notebook_tqdm\n"
     ]
    },
    {
     "data": {
      "image/png": "[encoded data removed]",
      "text/plain": [
       "<IPython.core.display.Image object>"
      ]
     },
     "metadata": {},
     "output_type": "display_data"
    }
   ],
   "source": [
    "from langchain_groq import ChatGroq\n",
    "from langchain.embeddings import HuggingFaceEmbeddings\n",
    "from langchain_milvus import Milvus\n",
    "from langchain_community.tools import TavilySearchResults\n",
    "from langgraph.graph import StateGraph, START, END\n",
    "from pydantic import BaseModel\n",
    "from typing import Optional\n",
    "\n",
    "# Define State Class\n",
    "class ChatState(BaseModel):\n",
    "    query: str = \"\"\n",
    "    has_document: bool = False\n",
    "    do_web_search: bool = False\n",
    "    rag_context: Optional[str] = \"\"\n",
    "    web_context: Optional[str] = \"\"\n",
    "    response: Optional[str] = \"\"\n",
    "\n",
    "# Initialize LangChain components\n",
    "llm = ChatGroq(temperature=0, model_name=\"mixtral-8x7b-32768\")\n",
    "embeddings = HuggingFaceEmbeddings(model_name=\"sentence-transformers/all-MiniLM-L6-v2\")\n",
    "vector_db = Milvus(\n",
    "    embedding_function=embeddings,\n",
    "    connection_args={\"uri\": \"./milvus_example.db\"},\n",
    "    # Set index_params if needed\n",
    "    index_params={\"index_type\": \"FLAT\", \"metric_type\": \"L2\"},\n",
    "    auto_id=True\n",
    ")\n",
    "web_search = TavilySearchResults(\n",
    "    max_results=1,\n",
    "    search_depth=\"advanced\",\n",
    "    include_answer=True,\n",
    "    include_raw_content=True,\n",
    "    include_images=True\n",
    ")\n",
    "\n",
    "# Routing Function\n",
    "def routing_function(state: ChatState):\n",
    "    if state.has_document and state.do_web_search:\n",
    "        return [\"rag_node\", \"web_search_node\"]\n",
    "    elif state.has_document:\n",
    "        return [\"rag_node\"]\n",
    "    elif state.do_web_search:\n",
    "        return [\"web_search_node\"]\n",
    "    else:\n",
    "        return [\"llm_node\"]\n",
    "\n",
    "# RAG Node\n",
    "def rag_node(state: ChatState) -> ChatState:\n",
    "    \"\"\"Retrieve context from vector database.\"\"\"\n",
    "    context_results = vector_db.similarity_search(state.query, k=3)\n",
    "    context_text = \"\\n\".join([doc.page_content for doc in context_results])\n",
    "    return {\"rag_context\": context_text}\n",
    "\n",
    "# Web Search Node\n",
    "def web_search_node(state: ChatState) -> ChatState:\n",
    "    \"\"\"Retrieve context from web search.\"\"\"\n",
    "    search_results = web_search.run(state.query)[0]['content']\n",
    "    return {\"web_context\": search_results}\n",
    "\n",
    "# LLM Node\n",
    "def llm_node(state: ChatState) -> ChatState:\n",
    "    \"\"\"Generate final response using LLM.\"\"\"\n",
    "    prompt = f\"\"\"\n",
    "    Answer the question based on the provided contexts.\n",
    "    \n",
    "    RAG Context: \n",
    "    {state.rag_context}\n",
    "    Web Context: \n",
    "    {state.web_context}\n",
    "    \n",
    "    Query: {state.query}\n",
    "    \"\"\"\n",
    "    response = llm.invoke(prompt).content\n",
    "    return {\"response\": response}\n",
    "\n",
    "# Build the LangGraph workflow\n",
    "graph = StateGraph(ChatState)\n",
    "graph.add_node(\"rag_node\", rag_node)\n",
    "graph.add_node(\"web_search_node\", web_search_node)\n",
    "graph.add_node(\"llm_node\", llm_node)\n",
    "\n",
    "# Define edges\n",
    "graph.add_conditional_edges(START, routing_function)\n",
    "graph.add_edge(\"rag_node\", \"llm_node\")\n",
    "graph.add_edge(\"web_search_node\", \"llm_node\")\n",
    "graph.add_edge(\"llm_node\", END)  # Ensure LLM output leads to END\n",
    "\n",
    "from langgraph.checkpoint.memory import MemorySaver\n",
    "\n",
    "memory = MemorySaver()\n",
    "\n",
    "# Compile Graph\n",
    "compiled_graph = graph.compile(checkpointer=memory)\n",
    "\n",
    "from IPython.display import Image, display\n",
    "from langchain_core.runnables.graph import MermaidDrawMethod\n",
    "\n",
    "display(\n",
    "    Image(\n",
    "        compiled_graph.get_graph().draw_mermaid_png(\n",
    "            draw_method=MermaidDrawMethod.API,\n",
    "        )\n",
    "    )\n",
    ")\n",
    "\n",
    "# initial_state = ChatState(\n",
    "#     query=\"can you find where i work currently in my resume?\",\n",
    "#     do_web_search=True,\n",
    "#     has_document=True\n",
    "# )\n",
    "\n",
    "# config = {\"configurable\": {\"thread_id\": \"1\"}}\n",
    "# result = compiled_graph.invoke(initial_state, config=config)\n",
    "# print(result['response'])\n",
    "\n",
    "# config = {\"configurable\": {\"thread_id\": \"1\"}}\n",
    "# compiled_graph.invoke(ChatState(\n",
    "#     query=\"what was my last question?\",\n",
    "#     do_web_search=False,\n",
    "#     has_document=False\n",
    "# ), config=config)['response']\n"
   ]
  },
  {
   "cell_type": "code",
   "execution_count": 3,
   "metadata": {},
   "outputs": [
    {
     "data": {
      "text/plain": [
       "'Based on the provided context, the information about where you currently work on your resume would typically be found in the \"Work Experience\" section. It should be listed as a current job, using the present tense to describe your responsibilities and duties. This helps employers understand your current employment status and the role you are currently in.'"
      ]
     },
     "execution_count": 3,
     "metadata": {},
     "output_type": "execute_result"
    }
   ],
   "source": [
    "initial_state = ChatState(\n",
    "    query=\"can you find where i work currently in my resume?\",\n",
    "    do_web_search=True,\n",
    "    has_document=True\n",
    ")\n",
    "\n",
    "config = {\"configurable\": {\"thread_id\": \"1\"}}\n",
    "result = compiled_graph.invoke(initial_state, config=config)\n",
    "result['response']"
   ]
  },
  {
   "cell_type": "code",
   "execution_count": null,
   "metadata": {},
   "outputs": [],
   "source": [
    "\n",
    "config = {\"configurable\": {\"thread_id\": \"1\"}}\n",
    "compiled_graph.invoke(ChatState(\n",
    "    query=\"what was my last question?\",\n",
    "    do_web_search=False,\n",
    "    has_document=False\n",
    "), config=config)['response']"
   ]
  },
  {
   "cell_type": "code",
   "execution_count": null,
   "metadata": {},
   "outputs": [],
   "source": [
    "config = {\"configurable\": {\"thread_id\": \"1\"}}\n",
    "compiled_graph.get_state(config)"
   ]
  },
  {
   "cell_type": "code",
   "execution_count": null,
   "metadata": {},
   "outputs": [],
   "source": [
    "config = {\"configurable\": {\"thread_id\": \"1\"}}\n",
    "list(compiled_graph.get_state_history(config))"
   ]
  },
  {
   "cell_type": "code",
   "execution_count": null,
   "metadata": {},
   "outputs": [],
   "source": [
    "memory = MemorySaver()\n",
    "\n",
    "compiled_graph = graph.compile(checkpointer=memory)\n",
    "\n",
    "def invoke_conversation(query, thread_id):\n",
    "    \"\"\"Handles new and ongoing conversations based on thread_id.\"\"\"\n",
    "    \n",
    "    initial_state = ChatState(query=query, do_web_search=True, has_document=False)\n",
    "\n",
    "    config = {\"configurable\": {\"thread_id\": thread_id}}\n",
    "    result = compiled_graph.invoke(initial_state, config=config)\n",
    "    \n",
    "    return result[\"response\"]\n",
    "\n",
    "# Example Usage:\n",
    "# Start a new conversation\n",
    "thread_1 = \"thread_123\"\n",
    "response = invoke_conversation(\"What is LangGraph?\", thread_1)\n",
    "print(response)\n",
    "\n",
    "# Continue the same thread\n",
    "response = invoke_conversation(\"How does it handle memory?\", thread_1)\n",
    "print(response)\n",
    "\n",
    "# Start a new conversation thread\n",
    "thread_2 = \"thread_456\"\n",
    "response = invoke_conversation(\"Tell me about transformers in NLP.\", thread_2)\n",
    "print(response)\n"
   ]
  },
  {
   "cell_type": "code",
   "execution_count": null,
   "metadata": {},
   "outputs": [],
   "source": [
    "from langchain_core.messages import HumanMessage\n",
    "\n",
    "config = {\"configurable\": {\"thread_id\": \"2\"}}\n",
    "input_message = \"hi! I'm bob\"\n",
    "for event in compiled_graph.stream({\"query\": input_message}, config, stream_mode=\"values\"):\n",
    "    event[\"response\"].pretty_print()\n",
    "\n",
    "\n",
    "input_message = \"what's my name?\"\n",
    "for event in compiled_graph.stream({\"query\": input_message}, config, stream_mode=\"values\"):\n",
    "    event[\"response\"].pretty_print()"
   ]
  },
  {
   "cell_type": "code",
   "execution_count": null,
   "metadata": {},
   "outputs": [],
   "source": []
  }
 ],
 "metadata": {
  "kernelspec": {
   "display_name": "chatapp",
   "language": "python",
   "name": "python3"
  },
  "language_info": {
   "codemirror_mode": {
    "name": "ipython",
    "version": 3
   },
   "file_extension": ".py",
   "mimetype": "text/x-python",
   "name": "python",
   "nbconvert_exporter": "python",
   "pygments_lexer": "ipython3",
   "version": "3.11.11"
  }
 },
 "nbformat": 4,
 "nbformat_minor": 2
}
