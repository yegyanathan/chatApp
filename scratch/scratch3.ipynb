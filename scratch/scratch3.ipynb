{
 "cells": [
  {
   "cell_type": "code",
   "execution_count": 1,
   "metadata": {},
   "outputs": [],
   "source": [
    "import os\n",
    "\n",
    "os.environ[\"GROQ_API_KEY\"] = \"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\""
   ]
  },
  {
   "cell_type": "code",
   "execution_count": 2,
   "metadata": {},
   "outputs": [],
   "source": [
    "from langchain_groq import ChatGroq\n",
    "from langgraph.graph import StateGraph, START, END, add_messages\n",
    "from pydantic import BaseModel\n",
    "from typing import List\n",
    "from langgraph.checkpoint.memory import MemorySaver\n",
    "from langchain.schema import HumanMessage, AIMessage\n",
    "\n",
    "# Initialize memory-based checkpointing\n",
    "memory = MemorySaver()\n",
    "\n",
    "# Define State Class with add_messages for conversation tracking\n",
    "class ChatState(BaseModel):\n",
    "    messages: List[HumanMessage | AIMessage] = add_messages()  # Automatically tracks conversation\n",
    "\n",
    "# Initialize LangChain components\n",
    "llm = ChatGroq(temperature=0, model_name=\"mixtral-8x7b-32768\")\n",
    "\n",
    "# LLM Node to handle conversation\n",
    "def llm_node(state: ChatState) -> ChatState:\n",
    "    \"\"\"Generate response using LLM while maintaining conversation history.\"\"\"\n",
    "    \n",
    "    # Extract past conversation messages and format as history\n",
    "    history_text = \"\\n\".join([msg.content for msg in state.messages])\n",
    "    \n",
    "    prompt = f\"\"\"\n",
    "    Previous conversation:\n",
    "    {history_text}\n",
    "    \n",
    "    Answer the current question based on the provided context.\n",
    "    \"\"\"\n",
    "    \n",
    "    # Generate response using LLM\n",
    "    response = llm.invoke(prompt).content\n",
    "    \n",
    "    # Update conversation history\n",
    "    state.messages.append(AIMessage(content=response))\n",
    "    \n",
    "    return {\"messages\": state.messages}\n",
    "\n",
    "# Build the LangGraph workflow\n",
    "graph = StateGraph(ChatState)\n",
    "graph.add_node(\"llm_node\", llm_node)\n",
    "\n",
    "# Define edges\n",
    "graph.add_edge(START, \"llm_node\")\n",
    "graph.add_edge(\"llm_node\", END)  # Ensure LLM output leads to END\n",
    "\n",
    "# Compile Graph with checkpointing\n",
    "compiled_graph = graph.compile(checkpointer=memory)\n",
    "    \n",
    "\n",
    "\n",
    "# from IPython.display import Image, display\n",
    "# from langchain_core.runnables.graph import MermaidDrawMethod\n",
    "\n",
    "# display(\n",
    "#     Image(\n",
    "#         compiled_graph.get_graph().draw_mermaid_png(\n",
    "#             draw_method=MermaidDrawMethod.API,\n",
    "#         )\n",
    "#     )\n",
    "# )\n"
   ]
  },
  {
   "cell_type": "code",
   "execution_count": 3,
   "metadata": {},
   "outputs": [
    {
     "data": {
      "text/plain": [
       "{'messages': [HumanMessage(content='can you find where i work currently in my resume?', additional_kwargs={}, response_metadata={}),\n",
       "  AIMessage(content='Based on the previous conversation, I would need to access your resume to find out where you currently work. However, I am a text-based AI and do not have the ability to access or view files or documents. If you can provide the relevant information from your resume, I would be happy to help with any questions or concerns you have.', additional_kwargs={}, response_metadata={})]}"
      ]
     },
     "execution_count": 3,
     "metadata": {},
     "output_type": "execute_result"
    }
   ],
   "source": [
    "initial_state = ChatState(\n",
    "    messages=[HumanMessage(\"can you find where i work currently in my resume?\")]\n",
    ")\n",
    "config = {\"configurable\": {\"thread_id\": \"1\"}}\n",
    "result = compiled_graph.invoke(initial_state, config=config)\n",
    "result"
   ]
  },
  {
   "cell_type": "code",
   "execution_count": 4,
   "metadata": {},
   "outputs": [
    {
     "data": {
      "text/plain": [
       "{'messages': [HumanMessage(content='can you find where i work currently in my resume?', additional_kwargs={}, response_metadata={}),\n",
       "  AIMessage(content='Based on the previous conversation, I would need to access your resume to find out where you currently work. However, I am a text-based AI and do not have the ability to access or view files or documents. If you can provide the relevant information from your resume, I would be happy to help with any questions or concerns you have.', additional_kwargs={}, response_metadata={})]}"
      ]
     },
     "execution_count": 4,
     "metadata": {},
     "output_type": "execute_result"
    }
   ],
   "source": [
    "result"
   ]
  },
  {
   "cell_type": "code",
   "execution_count": 5,
   "metadata": {},
   "outputs": [
    {
     "name": "stderr",
     "output_type": "stream",
     "text": [
      "/Users/yegyanathanv/anaconda3/envs/chatapp/lib/python3.11/site-packages/pydantic/main.py:426: UserWarning: Pydantic serializer warnings:\n",
      "  Expected `list[Union[HumanMessage, AIMessage]]` but got `partial` with value `functools.partial(<functi...essages at 0x11dcb7600>)` - serialized value may not be as expected\n",
      "  return self.__pydantic_serializer__.to_python(\n"
     ]
    },
    {
     "ename": "InvalidUpdateError",
     "evalue": "Must write to at least one of ['messages']",
     "output_type": "error",
     "traceback": [
      "\u001b[0;31m---------------------------------------------------------------------------\u001b[0m",
      "\u001b[0;31mInvalidUpdateError\u001b[0m                        Traceback (most recent call last)",
      "\u001b[1;32m/Users/yegyanathanv/Desktop/passion-projects/chatApp/scratch3.ipynb Cell 5\u001b[0m line \u001b[0;36m5\n\u001b[1;32m      <a href='vscode-notebook-cell:/Users/yegyanathanv/Desktop/passion-projects/chatApp/scratch3.ipynb#W4sZmlsZQ%3D%3D?line=0'>1</a>\u001b[0m state \u001b[39m=\u001b[39m ChatState(\n\u001b[1;32m      <a href='vscode-notebook-cell:/Users/yegyanathanv/Desktop/passion-projects/chatApp/scratch3.ipynb#W4sZmlsZQ%3D%3D?line=1'>2</a>\u001b[0m     query\u001b[39m=\u001b[39m\u001b[39m\"\u001b[39m\u001b[39mmy name is yegyanathan\u001b[39m\u001b[39m\"\u001b[39m,\n\u001b[1;32m      <a href='vscode-notebook-cell:/Users/yegyanathanv/Desktop/passion-projects/chatApp/scratch3.ipynb#W4sZmlsZQ%3D%3D?line=2'>3</a>\u001b[0m )\n\u001b[1;32m      <a href='vscode-notebook-cell:/Users/yegyanathanv/Desktop/passion-projects/chatApp/scratch3.ipynb#W4sZmlsZQ%3D%3D?line=3'>4</a>\u001b[0m config \u001b[39m=\u001b[39m {\u001b[39m\"\u001b[39m\u001b[39mconfigurable\u001b[39m\u001b[39m\"\u001b[39m: {\u001b[39m\"\u001b[39m\u001b[39mthread_id\u001b[39m\u001b[39m\"\u001b[39m: \u001b[39m\"\u001b[39m\u001b[39m1\u001b[39m\u001b[39m\"\u001b[39m}}\n\u001b[0;32m----> <a href='vscode-notebook-cell:/Users/yegyanathanv/Desktop/passion-projects/chatApp/scratch3.ipynb#W4sZmlsZQ%3D%3D?line=4'>5</a>\u001b[0m result \u001b[39m=\u001b[39m compiled_graph\u001b[39m.\u001b[39;49minvoke(state, config\u001b[39m=\u001b[39;49mconfig)\n\u001b[1;32m      <a href='vscode-notebook-cell:/Users/yegyanathanv/Desktop/passion-projects/chatApp/scratch3.ipynb#W4sZmlsZQ%3D%3D?line=5'>6</a>\u001b[0m \u001b[39mprint\u001b[39m(result[\u001b[39m'\u001b[39m\u001b[39mresponse\u001b[39m\u001b[39m'\u001b[39m])\n",
      "File \u001b[0;32m~/anaconda3/envs/chatapp/lib/python3.11/site-packages/langgraph/pregel/__init__.py:2069\u001b[0m, in \u001b[0;36mPregel.invoke\u001b[0;34m(self, input, config, stream_mode, output_keys, interrupt_before, interrupt_after, debug, **kwargs)\u001b[0m\n\u001b[1;32m   2067\u001b[0m \u001b[39melse\u001b[39;00m:\n\u001b[1;32m   2068\u001b[0m     chunks \u001b[39m=\u001b[39m []\n\u001b[0;32m-> 2069\u001b[0m \u001b[39mfor\u001b[39;49;00m chunk \u001b[39min\u001b[39;49;00m \u001b[39mself\u001b[39;49m\u001b[39m.\u001b[39;49mstream(\n\u001b[1;32m   2070\u001b[0m     \u001b[39minput\u001b[39;49m,\n\u001b[1;32m   2071\u001b[0m     config,\n\u001b[1;32m   2072\u001b[0m     stream_mode\u001b[39m=\u001b[39;49mstream_mode,\n\u001b[1;32m   2073\u001b[0m     output_keys\u001b[39m=\u001b[39;49moutput_keys,\n\u001b[1;32m   2074\u001b[0m     interrupt_before\u001b[39m=\u001b[39;49minterrupt_before,\n\u001b[1;32m   2075\u001b[0m     interrupt_after\u001b[39m=\u001b[39;49minterrupt_after,\n\u001b[1;32m   2076\u001b[0m     debug\u001b[39m=\u001b[39;49mdebug,\n\u001b[1;32m   2077\u001b[0m     \u001b[39m*\u001b[39;49m\u001b[39m*\u001b[39;49mkwargs,\n\u001b[1;32m   2078\u001b[0m ):\n\u001b[1;32m   2079\u001b[0m     \u001b[39mif\u001b[39;49;00m stream_mode \u001b[39m==\u001b[39;49m \u001b[39m\"\u001b[39;49m\u001b[39mvalues\u001b[39;49m\u001b[39m\"\u001b[39;49m:\n\u001b[1;32m   2080\u001b[0m         latest \u001b[39m=\u001b[39;49m chunk\n",
      "File \u001b[0;32m~/anaconda3/envs/chatapp/lib/python3.11/site-packages/langgraph/pregel/__init__.py:1724\u001b[0m, in \u001b[0;36mPregel.stream\u001b[0;34m(self, input, config, stream_mode, output_keys, interrupt_before, interrupt_after, debug, subgraphs)\u001b[0m\n\u001b[1;32m   1718\u001b[0m     \u001b[39m# Similarly to Bulk Synchronous Parallel / Pregel model\u001b[39;00m\n\u001b[1;32m   1719\u001b[0m     \u001b[39m# computation proceeds in steps, while there are channel updates.\u001b[39;00m\n\u001b[1;32m   1720\u001b[0m     \u001b[39m# Channel updates from step N are only visible in step N+1\u001b[39;00m\n\u001b[1;32m   1721\u001b[0m     \u001b[39m# channels are guaranteed to be immutable for the duration of the step,\u001b[39;00m\n\u001b[1;32m   1722\u001b[0m     \u001b[39m# with channel updates applied only at the transition between steps.\u001b[39;00m\n\u001b[1;32m   1723\u001b[0m     \u001b[39mwhile\u001b[39;00m loop\u001b[39m.\u001b[39mtick(input_keys\u001b[39m=\u001b[39m\u001b[39mself\u001b[39m\u001b[39m.\u001b[39minput_channels):\n\u001b[0;32m-> 1724\u001b[0m         \u001b[39mfor\u001b[39;49;00m _ \u001b[39min\u001b[39;49;00m runner\u001b[39m.\u001b[39;49mtick(\n\u001b[1;32m   1725\u001b[0m             loop\u001b[39m.\u001b[39;49mtasks\u001b[39m.\u001b[39;49mvalues(),\n\u001b[1;32m   1726\u001b[0m             timeout\u001b[39m=\u001b[39;49m\u001b[39mself\u001b[39;49m\u001b[39m.\u001b[39;49mstep_timeout,\n\u001b[1;32m   1727\u001b[0m             retry_policy\u001b[39m=\u001b[39;49m\u001b[39mself\u001b[39;49m\u001b[39m.\u001b[39;49mretry_policy,\n\u001b[1;32m   1728\u001b[0m             get_waiter\u001b[39m=\u001b[39;49mget_waiter,\n\u001b[1;32m   1729\u001b[0m         ):\n\u001b[1;32m   1730\u001b[0m             \u001b[39m# emit output\u001b[39;49;00m\n\u001b[1;32m   1731\u001b[0m             \u001b[39myield from\u001b[39;49;00m output()\n\u001b[1;32m   1732\u001b[0m \u001b[39m# emit output\u001b[39;00m\n",
      "File \u001b[0;32m~/anaconda3/envs/chatapp/lib/python3.11/site-packages/langgraph/pregel/runner.py:230\u001b[0m, in \u001b[0;36mPregelRunner.tick\u001b[0;34m(self, tasks, reraise, timeout, retry_policy, get_waiter)\u001b[0m\n\u001b[1;32m    228\u001b[0m t \u001b[39m=\u001b[39m tasks[\u001b[39m0\u001b[39m]\n\u001b[1;32m    229\u001b[0m \u001b[39mtry\u001b[39;00m:\n\u001b[0;32m--> 230\u001b[0m     run_with_retry(\n\u001b[1;32m    231\u001b[0m         t,\n\u001b[1;32m    232\u001b[0m         retry_policy,\n\u001b[1;32m    233\u001b[0m         configurable\u001b[39m=\u001b[39;49m{\n\u001b[1;32m    234\u001b[0m             CONFIG_KEY_SEND: partial(writer, t),\n\u001b[1;32m    235\u001b[0m             CONFIG_KEY_CALL: partial(call, t),\n\u001b[1;32m    236\u001b[0m         },\n\u001b[1;32m    237\u001b[0m     )\n\u001b[1;32m    238\u001b[0m     \u001b[39mself\u001b[39m\u001b[39m.\u001b[39mcommit(t, \u001b[39mNone\u001b[39;00m)\n\u001b[1;32m    239\u001b[0m \u001b[39mexcept\u001b[39;00m \u001b[39mException\u001b[39;00m \u001b[39mas\u001b[39;00m exc:\n",
      "File \u001b[0;32m~/anaconda3/envs/chatapp/lib/python3.11/site-packages/langgraph/pregel/retry.py:40\u001b[0m, in \u001b[0;36mrun_with_retry\u001b[0;34m(task, retry_policy, configurable)\u001b[0m\n\u001b[1;32m     38\u001b[0m     task\u001b[39m.\u001b[39mwrites\u001b[39m.\u001b[39mclear()\n\u001b[1;32m     39\u001b[0m     \u001b[39m# run the task\u001b[39;00m\n\u001b[0;32m---> 40\u001b[0m     \u001b[39mreturn\u001b[39;00m task\u001b[39m.\u001b[39;49mproc\u001b[39m.\u001b[39;49minvoke(task\u001b[39m.\u001b[39;49minput, config)\n\u001b[1;32m     41\u001b[0m \u001b[39mexcept\u001b[39;00m ParentCommand \u001b[39mas\u001b[39;00m exc:\n\u001b[1;32m     42\u001b[0m     ns: \u001b[39mstr\u001b[39m \u001b[39m=\u001b[39m config[CONF][CONFIG_KEY_CHECKPOINT_NS]\n",
      "File \u001b[0;32m~/anaconda3/envs/chatapp/lib/python3.11/site-packages/langgraph/utils/runnable.py:506\u001b[0m, in \u001b[0;36mRunnableSeq.invoke\u001b[0;34m(self, input, config, **kwargs)\u001b[0m\n\u001b[1;32m    502\u001b[0m config \u001b[39m=\u001b[39m patch_config(\n\u001b[1;32m    503\u001b[0m     config, callbacks\u001b[39m=\u001b[39mrun_manager\u001b[39m.\u001b[39mget_child(\u001b[39mf\u001b[39m\u001b[39m\"\u001b[39m\u001b[39mseq:step:\u001b[39m\u001b[39m{\u001b[39;00mi\u001b[39m \u001b[39m\u001b[39m+\u001b[39m\u001b[39m \u001b[39m\u001b[39m1\u001b[39m\u001b[39m}\u001b[39;00m\u001b[39m\"\u001b[39m)\n\u001b[1;32m    504\u001b[0m )\n\u001b[1;32m    505\u001b[0m \u001b[39mif\u001b[39;00m i \u001b[39m==\u001b[39m \u001b[39m0\u001b[39m:\n\u001b[0;32m--> 506\u001b[0m     \u001b[39minput\u001b[39m \u001b[39m=\u001b[39m step\u001b[39m.\u001b[39;49minvoke(\u001b[39minput\u001b[39;49m, config, \u001b[39m*\u001b[39;49m\u001b[39m*\u001b[39;49mkwargs)\n\u001b[1;32m    507\u001b[0m \u001b[39melse\u001b[39;00m:\n\u001b[1;32m    508\u001b[0m     \u001b[39minput\u001b[39m \u001b[39m=\u001b[39m step\u001b[39m.\u001b[39minvoke(\u001b[39minput\u001b[39m, config)\n",
      "File \u001b[0;32m~/anaconda3/envs/chatapp/lib/python3.11/site-packages/langgraph/utils/runnable.py:262\u001b[0m, in \u001b[0;36mRunnableCallable.invoke\u001b[0;34m(self, input, config, **kwargs)\u001b[0m\n\u001b[1;32m    260\u001b[0m     context \u001b[39m=\u001b[39m copy_context()\n\u001b[1;32m    261\u001b[0m     context\u001b[39m.\u001b[39mrun(_set_config_context, child_config)\n\u001b[0;32m--> 262\u001b[0m     ret \u001b[39m=\u001b[39m context\u001b[39m.\u001b[39;49mrun(\u001b[39mself\u001b[39;49m\u001b[39m.\u001b[39;49mfunc, \u001b[39m*\u001b[39;49margs, \u001b[39m*\u001b[39;49m\u001b[39m*\u001b[39;49mkwargs)\n\u001b[1;32m    263\u001b[0m \u001b[39mexcept\u001b[39;00m \u001b[39mBaseException\u001b[39;00m \u001b[39mas\u001b[39;00m e:\n\u001b[1;32m    264\u001b[0m     run_manager\u001b[39m.\u001b[39mon_chain_error(e)\n",
      "File \u001b[0;32m~/anaconda3/envs/chatapp/lib/python3.11/site-packages/langgraph/pregel/write.py:96\u001b[0m, in \u001b[0;36mChannelWrite._write\u001b[0;34m(self, input, config)\u001b[0m\n\u001b[1;32m     87\u001b[0m \u001b[39mdef\u001b[39;00m\u001b[39m \u001b[39m\u001b[39m_write\u001b[39m(\u001b[39mself\u001b[39m, \u001b[39minput\u001b[39m: Any, config: RunnableConfig) \u001b[39m-\u001b[39m\u001b[39m>\u001b[39m \u001b[39mNone\u001b[39;00m:\n\u001b[1;32m     88\u001b[0m     writes \u001b[39m=\u001b[39m [\n\u001b[1;32m     89\u001b[0m         ChannelWriteEntry(write\u001b[39m.\u001b[39mchannel, \u001b[39minput\u001b[39m, write\u001b[39m.\u001b[39mskip_none, write\u001b[39m.\u001b[39mmapper)\n\u001b[1;32m     90\u001b[0m         \u001b[39mif\u001b[39;00m \u001b[39misinstance\u001b[39m(write, ChannelWriteEntry) \u001b[39mand\u001b[39;00m write\u001b[39m.\u001b[39mvalue \u001b[39mis\u001b[39;00m PASSTHROUGH\n\u001b[0;32m   (...)\u001b[0m\n\u001b[1;32m     94\u001b[0m         \u001b[39mfor\u001b[39;00m write \u001b[39min\u001b[39;00m \u001b[39mself\u001b[39m\u001b[39m.\u001b[39mwrites\n\u001b[1;32m     95\u001b[0m     ]\n\u001b[0;32m---> 96\u001b[0m     \u001b[39mself\u001b[39;49m\u001b[39m.\u001b[39;49mdo_write(\n\u001b[1;32m     97\u001b[0m         config,\n\u001b[1;32m     98\u001b[0m         writes,\n\u001b[1;32m     99\u001b[0m         \u001b[39mself\u001b[39;49m\u001b[39m.\u001b[39;49mrequire_at_least_one_of \u001b[39mif\u001b[39;49;00m \u001b[39minput\u001b[39;49m \u001b[39mis\u001b[39;49;00m \u001b[39mnot\u001b[39;49;00m \u001b[39mNone\u001b[39;49;00m \u001b[39melse\u001b[39;49;00m \u001b[39mNone\u001b[39;49;00m,\n\u001b[1;32m    100\u001b[0m     )\n\u001b[1;32m    101\u001b[0m     \u001b[39mreturn\u001b[39;00m \u001b[39minput\u001b[39m\n",
      "File \u001b[0;32m~/anaconda3/envs/chatapp/lib/python3.11/site-packages/langgraph/pregel/write.py:157\u001b[0m, in \u001b[0;36mChannelWrite.do_write\u001b[0;34m(config, writes, require_at_least_one_of)\u001b[0m\n\u001b[1;32m    155\u001b[0m \u001b[39mif\u001b[39;00m require_at_least_one_of \u001b[39mis\u001b[39;00m \u001b[39mnot\u001b[39;00m \u001b[39mNone\u001b[39;00m:\n\u001b[1;32m    156\u001b[0m     \u001b[39mif\u001b[39;00m \u001b[39mnot\u001b[39;00m {chan \u001b[39mfor\u001b[39;00m chan, _ \u001b[39min\u001b[39;00m tuples} \u001b[39m&\u001b[39m \u001b[39mset\u001b[39m(require_at_least_one_of):\n\u001b[0;32m--> 157\u001b[0m         \u001b[39mraise\u001b[39;00m InvalidUpdateError(\n\u001b[1;32m    158\u001b[0m             \u001b[39mf\u001b[39m\u001b[39m\"\u001b[39m\u001b[39mMust write to at least one of \u001b[39m\u001b[39m{\u001b[39;00mrequire_at_least_one_of\u001b[39m}\u001b[39;00m\u001b[39m\"\u001b[39m\n\u001b[1;32m    159\u001b[0m         )\n\u001b[1;32m    160\u001b[0m write: TYPE_SEND \u001b[39m=\u001b[39m config[CONF][CONFIG_KEY_SEND]\n\u001b[1;32m    161\u001b[0m write(tuples)\n",
      "\u001b[0;31mInvalidUpdateError\u001b[0m: Must write to at least one of ['messages']",
      "\u001b[0mDuring task with name '__start__' and id '94d7198d-3313-7ec5-bedb-5b6632843a2b'"
     ]
    }
   ],
   "source": [
    "state = ChatState(\n",
    "    query=\"my name is yegyanathan\",\n",
    ")\n",
    "config = {\"configurable\": {\"thread_id\": \"1\"}}\n",
    "result = compiled_graph.invoke(state, config=config)\n",
    "print(result['response'])"
   ]
  },
  {
   "cell_type": "code",
   "execution_count": null,
   "metadata": {},
   "outputs": [],
   "source": [
    "state = ChatState(\n",
    "    query=\"what is my name\",\n",
    ")\n",
    "config = {\"configurable\": {\"thread_id\": \"1\"}}\n",
    "result = compiled_graph.invoke(state, config=config)\n",
    "print(result['response'])"
   ]
  },
  {
   "cell_type": "code",
   "execution_count": null,
   "metadata": {},
   "outputs": [],
   "source": [
    "compiled_graph.aget_state_history(config)"
   ]
  },
  {
   "cell_type": "code",
   "execution_count": 7,
   "metadata": {},
   "outputs": [
    {
     "name": "stderr",
     "output_type": "stream",
     "text": [
      "/Users/yegyanathanv/anaconda3/envs/chatapp/lib/python3.11/site-packages/pydantic/main.py:426: UserWarning: Pydantic serializer warnings:\n",
      "  Expected `list[Union[HumanMessage, AIMessage]]` but got `partial` with value `functools.partial(<functi...essages at 0x11dcb7600>)` - serialized value may not be as expected\n",
      "  return self.__pydantic_serializer__.to_python(\n"
     ]
    },
    {
     "ename": "InvalidUpdateError",
     "evalue": "Must write to at least one of ['messages']",
     "output_type": "error",
     "traceback": [
      "\u001b[0;31m---------------------------------------------------------------------------\u001b[0m",
      "\u001b[0;31mInvalidUpdateError\u001b[0m                        Traceback (most recent call last)",
      "\u001b[1;32m/Users/yegyanathanv/Desktop/passion-projects/chatApp/scratch3.ipynb Cell 8\u001b[0m line \u001b[0;36m5\n\u001b[1;32m      <a href='vscode-notebook-cell:/Users/yegyanathanv/Desktop/passion-projects/chatApp/scratch3.ipynb#X10sZmlsZQ%3D%3D?line=0'>1</a>\u001b[0m state \u001b[39m=\u001b[39m ChatState(\n\u001b[1;32m      <a href='vscode-notebook-cell:/Users/yegyanathanv/Desktop/passion-projects/chatApp/scratch3.ipynb#X10sZmlsZQ%3D%3D?line=1'>2</a>\u001b[0m     query\u001b[39m=\u001b[39m\u001b[39m\"\u001b[39m\u001b[39mwhat is my name again\u001b[39m\u001b[39m\"\u001b[39m,\n\u001b[1;32m      <a href='vscode-notebook-cell:/Users/yegyanathanv/Desktop/passion-projects/chatApp/scratch3.ipynb#X10sZmlsZQ%3D%3D?line=2'>3</a>\u001b[0m )\n\u001b[1;32m      <a href='vscode-notebook-cell:/Users/yegyanathanv/Desktop/passion-projects/chatApp/scratch3.ipynb#X10sZmlsZQ%3D%3D?line=3'>4</a>\u001b[0m config \u001b[39m=\u001b[39m {\u001b[39m\"\u001b[39m\u001b[39mconfigurable\u001b[39m\u001b[39m\"\u001b[39m: {\u001b[39m\"\u001b[39m\u001b[39mthread_id\u001b[39m\u001b[39m\"\u001b[39m: \u001b[39m\"\u001b[39m\u001b[39m1\u001b[39m\u001b[39m\"\u001b[39m}}\n\u001b[0;32m----> <a href='vscode-notebook-cell:/Users/yegyanathanv/Desktop/passion-projects/chatApp/scratch3.ipynb#X10sZmlsZQ%3D%3D?line=4'>5</a>\u001b[0m result \u001b[39m=\u001b[39m compiled_graph\u001b[39m.\u001b[39;49minvoke(state, config\u001b[39m=\u001b[39;49mconfig)\n\u001b[1;32m      <a href='vscode-notebook-cell:/Users/yegyanathanv/Desktop/passion-projects/chatApp/scratch3.ipynb#X10sZmlsZQ%3D%3D?line=5'>6</a>\u001b[0m \u001b[39mprint\u001b[39m(result[\u001b[39m'\u001b[39m\u001b[39mresponse\u001b[39m\u001b[39m'\u001b[39m])\n",
      "File \u001b[0;32m~/anaconda3/envs/chatapp/lib/python3.11/site-packages/langgraph/pregel/__init__.py:2069\u001b[0m, in \u001b[0;36mPregel.invoke\u001b[0;34m(self, input, config, stream_mode, output_keys, interrupt_before, interrupt_after, debug, **kwargs)\u001b[0m\n\u001b[1;32m   2067\u001b[0m \u001b[39melse\u001b[39;00m:\n\u001b[1;32m   2068\u001b[0m     chunks \u001b[39m=\u001b[39m []\n\u001b[0;32m-> 2069\u001b[0m \u001b[39mfor\u001b[39;49;00m chunk \u001b[39min\u001b[39;49;00m \u001b[39mself\u001b[39;49m\u001b[39m.\u001b[39;49mstream(\n\u001b[1;32m   2070\u001b[0m     \u001b[39minput\u001b[39;49m,\n\u001b[1;32m   2071\u001b[0m     config,\n\u001b[1;32m   2072\u001b[0m     stream_mode\u001b[39m=\u001b[39;49mstream_mode,\n\u001b[1;32m   2073\u001b[0m     output_keys\u001b[39m=\u001b[39;49moutput_keys,\n\u001b[1;32m   2074\u001b[0m     interrupt_before\u001b[39m=\u001b[39;49minterrupt_before,\n\u001b[1;32m   2075\u001b[0m     interrupt_after\u001b[39m=\u001b[39;49minterrupt_after,\n\u001b[1;32m   2076\u001b[0m     debug\u001b[39m=\u001b[39;49mdebug,\n\u001b[1;32m   2077\u001b[0m     \u001b[39m*\u001b[39;49m\u001b[39m*\u001b[39;49mkwargs,\n\u001b[1;32m   2078\u001b[0m ):\n\u001b[1;32m   2079\u001b[0m     \u001b[39mif\u001b[39;49;00m stream_mode \u001b[39m==\u001b[39;49m \u001b[39m\"\u001b[39;49m\u001b[39mvalues\u001b[39;49m\u001b[39m\"\u001b[39;49m:\n\u001b[1;32m   2080\u001b[0m         latest \u001b[39m=\u001b[39;49m chunk\n",
      "File \u001b[0;32m~/anaconda3/envs/chatapp/lib/python3.11/site-packages/langgraph/pregel/__init__.py:1724\u001b[0m, in \u001b[0;36mPregel.stream\u001b[0;34m(self, input, config, stream_mode, output_keys, interrupt_before, interrupt_after, debug, subgraphs)\u001b[0m\n\u001b[1;32m   1718\u001b[0m     \u001b[39m# Similarly to Bulk Synchronous Parallel / Pregel model\u001b[39;00m\n\u001b[1;32m   1719\u001b[0m     \u001b[39m# computation proceeds in steps, while there are channel updates.\u001b[39;00m\n\u001b[1;32m   1720\u001b[0m     \u001b[39m# Channel updates from step N are only visible in step N+1\u001b[39;00m\n\u001b[1;32m   1721\u001b[0m     \u001b[39m# channels are guaranteed to be immutable for the duration of the step,\u001b[39;00m\n\u001b[1;32m   1722\u001b[0m     \u001b[39m# with channel updates applied only at the transition between steps.\u001b[39;00m\n\u001b[1;32m   1723\u001b[0m     \u001b[39mwhile\u001b[39;00m loop\u001b[39m.\u001b[39mtick(input_keys\u001b[39m=\u001b[39m\u001b[39mself\u001b[39m\u001b[39m.\u001b[39minput_channels):\n\u001b[0;32m-> 1724\u001b[0m         \u001b[39mfor\u001b[39;49;00m _ \u001b[39min\u001b[39;49;00m runner\u001b[39m.\u001b[39;49mtick(\n\u001b[1;32m   1725\u001b[0m             loop\u001b[39m.\u001b[39;49mtasks\u001b[39m.\u001b[39;49mvalues(),\n\u001b[1;32m   1726\u001b[0m             timeout\u001b[39m=\u001b[39;49m\u001b[39mself\u001b[39;49m\u001b[39m.\u001b[39;49mstep_timeout,\n\u001b[1;32m   1727\u001b[0m             retry_policy\u001b[39m=\u001b[39;49m\u001b[39mself\u001b[39;49m\u001b[39m.\u001b[39;49mretry_policy,\n\u001b[1;32m   1728\u001b[0m             get_waiter\u001b[39m=\u001b[39;49mget_waiter,\n\u001b[1;32m   1729\u001b[0m         ):\n\u001b[1;32m   1730\u001b[0m             \u001b[39m# emit output\u001b[39;49;00m\n\u001b[1;32m   1731\u001b[0m             \u001b[39myield from\u001b[39;49;00m output()\n\u001b[1;32m   1732\u001b[0m \u001b[39m# emit output\u001b[39;00m\n",
      "File \u001b[0;32m~/anaconda3/envs/chatapp/lib/python3.11/site-packages/langgraph/pregel/runner.py:230\u001b[0m, in \u001b[0;36mPregelRunner.tick\u001b[0;34m(self, tasks, reraise, timeout, retry_policy, get_waiter)\u001b[0m\n\u001b[1;32m    228\u001b[0m t \u001b[39m=\u001b[39m tasks[\u001b[39m0\u001b[39m]\n\u001b[1;32m    229\u001b[0m \u001b[39mtry\u001b[39;00m:\n\u001b[0;32m--> 230\u001b[0m     run_with_retry(\n\u001b[1;32m    231\u001b[0m         t,\n\u001b[1;32m    232\u001b[0m         retry_policy,\n\u001b[1;32m    233\u001b[0m         configurable\u001b[39m=\u001b[39;49m{\n\u001b[1;32m    234\u001b[0m             CONFIG_KEY_SEND: partial(writer, t),\n\u001b[1;32m    235\u001b[0m             CONFIG_KEY_CALL: partial(call, t),\n\u001b[1;32m    236\u001b[0m         },\n\u001b[1;32m    237\u001b[0m     )\n\u001b[1;32m    238\u001b[0m     \u001b[39mself\u001b[39m\u001b[39m.\u001b[39mcommit(t, \u001b[39mNone\u001b[39;00m)\n\u001b[1;32m    239\u001b[0m \u001b[39mexcept\u001b[39;00m \u001b[39mException\u001b[39;00m \u001b[39mas\u001b[39;00m exc:\n",
      "File \u001b[0;32m~/anaconda3/envs/chatapp/lib/python3.11/site-packages/langgraph/pregel/retry.py:40\u001b[0m, in \u001b[0;36mrun_with_retry\u001b[0;34m(task, retry_policy, configurable)\u001b[0m\n\u001b[1;32m     38\u001b[0m     task\u001b[39m.\u001b[39mwrites\u001b[39m.\u001b[39mclear()\n\u001b[1;32m     39\u001b[0m     \u001b[39m# run the task\u001b[39;00m\n\u001b[0;32m---> 40\u001b[0m     \u001b[39mreturn\u001b[39;00m task\u001b[39m.\u001b[39;49mproc\u001b[39m.\u001b[39;49minvoke(task\u001b[39m.\u001b[39;49minput, config)\n\u001b[1;32m     41\u001b[0m \u001b[39mexcept\u001b[39;00m ParentCommand \u001b[39mas\u001b[39;00m exc:\n\u001b[1;32m     42\u001b[0m     ns: \u001b[39mstr\u001b[39m \u001b[39m=\u001b[39m config[CONF][CONFIG_KEY_CHECKPOINT_NS]\n",
      "File \u001b[0;32m~/anaconda3/envs/chatapp/lib/python3.11/site-packages/langgraph/utils/runnable.py:506\u001b[0m, in \u001b[0;36mRunnableSeq.invoke\u001b[0;34m(self, input, config, **kwargs)\u001b[0m\n\u001b[1;32m    502\u001b[0m config \u001b[39m=\u001b[39m patch_config(\n\u001b[1;32m    503\u001b[0m     config, callbacks\u001b[39m=\u001b[39mrun_manager\u001b[39m.\u001b[39mget_child(\u001b[39mf\u001b[39m\u001b[39m\"\u001b[39m\u001b[39mseq:step:\u001b[39m\u001b[39m{\u001b[39;00mi\u001b[39m \u001b[39m\u001b[39m+\u001b[39m\u001b[39m \u001b[39m\u001b[39m1\u001b[39m\u001b[39m}\u001b[39;00m\u001b[39m\"\u001b[39m)\n\u001b[1;32m    504\u001b[0m )\n\u001b[1;32m    505\u001b[0m \u001b[39mif\u001b[39;00m i \u001b[39m==\u001b[39m \u001b[39m0\u001b[39m:\n\u001b[0;32m--> 506\u001b[0m     \u001b[39minput\u001b[39m \u001b[39m=\u001b[39m step\u001b[39m.\u001b[39;49minvoke(\u001b[39minput\u001b[39;49m, config, \u001b[39m*\u001b[39;49m\u001b[39m*\u001b[39;49mkwargs)\n\u001b[1;32m    507\u001b[0m \u001b[39melse\u001b[39;00m:\n\u001b[1;32m    508\u001b[0m     \u001b[39minput\u001b[39m \u001b[39m=\u001b[39m step\u001b[39m.\u001b[39minvoke(\u001b[39minput\u001b[39m, config)\n",
      "File \u001b[0;32m~/anaconda3/envs/chatapp/lib/python3.11/site-packages/langgraph/utils/runnable.py:262\u001b[0m, in \u001b[0;36mRunnableCallable.invoke\u001b[0;34m(self, input, config, **kwargs)\u001b[0m\n\u001b[1;32m    260\u001b[0m     context \u001b[39m=\u001b[39m copy_context()\n\u001b[1;32m    261\u001b[0m     context\u001b[39m.\u001b[39mrun(_set_config_context, child_config)\n\u001b[0;32m--> 262\u001b[0m     ret \u001b[39m=\u001b[39m context\u001b[39m.\u001b[39;49mrun(\u001b[39mself\u001b[39;49m\u001b[39m.\u001b[39;49mfunc, \u001b[39m*\u001b[39;49margs, \u001b[39m*\u001b[39;49m\u001b[39m*\u001b[39;49mkwargs)\n\u001b[1;32m    263\u001b[0m \u001b[39mexcept\u001b[39;00m \u001b[39mBaseException\u001b[39;00m \u001b[39mas\u001b[39;00m e:\n\u001b[1;32m    264\u001b[0m     run_manager\u001b[39m.\u001b[39mon_chain_error(e)\n",
      "File \u001b[0;32m~/anaconda3/envs/chatapp/lib/python3.11/site-packages/langgraph/pregel/write.py:96\u001b[0m, in \u001b[0;36mChannelWrite._write\u001b[0;34m(self, input, config)\u001b[0m\n\u001b[1;32m     87\u001b[0m \u001b[39mdef\u001b[39;00m\u001b[39m \u001b[39m\u001b[39m_write\u001b[39m(\u001b[39mself\u001b[39m, \u001b[39minput\u001b[39m: Any, config: RunnableConfig) \u001b[39m-\u001b[39m\u001b[39m>\u001b[39m \u001b[39mNone\u001b[39;00m:\n\u001b[1;32m     88\u001b[0m     writes \u001b[39m=\u001b[39m [\n\u001b[1;32m     89\u001b[0m         ChannelWriteEntry(write\u001b[39m.\u001b[39mchannel, \u001b[39minput\u001b[39m, write\u001b[39m.\u001b[39mskip_none, write\u001b[39m.\u001b[39mmapper)\n\u001b[1;32m     90\u001b[0m         \u001b[39mif\u001b[39;00m \u001b[39misinstance\u001b[39m(write, ChannelWriteEntry) \u001b[39mand\u001b[39;00m write\u001b[39m.\u001b[39mvalue \u001b[39mis\u001b[39;00m PASSTHROUGH\n\u001b[0;32m   (...)\u001b[0m\n\u001b[1;32m     94\u001b[0m         \u001b[39mfor\u001b[39;00m write \u001b[39min\u001b[39;00m \u001b[39mself\u001b[39m\u001b[39m.\u001b[39mwrites\n\u001b[1;32m     95\u001b[0m     ]\n\u001b[0;32m---> 96\u001b[0m     \u001b[39mself\u001b[39;49m\u001b[39m.\u001b[39;49mdo_write(\n\u001b[1;32m     97\u001b[0m         config,\n\u001b[1;32m     98\u001b[0m         writes,\n\u001b[1;32m     99\u001b[0m         \u001b[39mself\u001b[39;49m\u001b[39m.\u001b[39;49mrequire_at_least_one_of \u001b[39mif\u001b[39;49;00m \u001b[39minput\u001b[39;49m \u001b[39mis\u001b[39;49;00m \u001b[39mnot\u001b[39;49;00m \u001b[39mNone\u001b[39;49;00m \u001b[39melse\u001b[39;49;00m \u001b[39mNone\u001b[39;49;00m,\n\u001b[1;32m    100\u001b[0m     )\n\u001b[1;32m    101\u001b[0m     \u001b[39mreturn\u001b[39;00m \u001b[39minput\u001b[39m\n",
      "File \u001b[0;32m~/anaconda3/envs/chatapp/lib/python3.11/site-packages/langgraph/pregel/write.py:157\u001b[0m, in \u001b[0;36mChannelWrite.do_write\u001b[0;34m(config, writes, require_at_least_one_of)\u001b[0m\n\u001b[1;32m    155\u001b[0m \u001b[39mif\u001b[39;00m require_at_least_one_of \u001b[39mis\u001b[39;00m \u001b[39mnot\u001b[39;00m \u001b[39mNone\u001b[39;00m:\n\u001b[1;32m    156\u001b[0m     \u001b[39mif\u001b[39;00m \u001b[39mnot\u001b[39;00m {chan \u001b[39mfor\u001b[39;00m chan, _ \u001b[39min\u001b[39;00m tuples} \u001b[39m&\u001b[39m \u001b[39mset\u001b[39m(require_at_least_one_of):\n\u001b[0;32m--> 157\u001b[0m         \u001b[39mraise\u001b[39;00m InvalidUpdateError(\n\u001b[1;32m    158\u001b[0m             \u001b[39mf\u001b[39m\u001b[39m\"\u001b[39m\u001b[39mMust write to at least one of \u001b[39m\u001b[39m{\u001b[39;00mrequire_at_least_one_of\u001b[39m}\u001b[39;00m\u001b[39m\"\u001b[39m\n\u001b[1;32m    159\u001b[0m         )\n\u001b[1;32m    160\u001b[0m write: TYPE_SEND \u001b[39m=\u001b[39m config[CONF][CONFIG_KEY_SEND]\n\u001b[1;32m    161\u001b[0m write(tuples)\n",
      "\u001b[0;31mInvalidUpdateError\u001b[0m: Must write to at least one of ['messages']",
      "\u001b[0mDuring task with name '__start__' and id 'aeda91a7-fa76-6e3e-7c98-e3b63bd777f0'"
     ]
    }
   ],
   "source": [
    "state = ChatState(\n",
    "    query=\"what is my name again\",\n",
    ")\n",
    "config = {\"configurable\": {\"thread_id\": \"1\"}}\n",
    "result = compiled_graph.invoke(state, config=config)\n",
    "print(result['response'])"
   ]
  },
  {
   "cell_type": "code",
   "execution_count": 6,
   "metadata": {},
   "outputs": [
    {
     "name": "stderr",
     "output_type": "stream",
     "text": [
      "/Users/yegyanathanv/anaconda3/envs/chatapp/lib/python3.11/site-packages/pydantic/main.py:426: UserWarning: Pydantic serializer warnings:\n",
      "  Expected `list[Union[HumanMessage, AIMessage]]` but got `partial` with value `functools.partial(<functi...essages at 0x11dcb7600>)` - serialized value may not be as expected\n",
      "  return self.__pydantic_serializer__.to_python(\n"
     ]
    },
    {
     "ename": "InvalidUpdateError",
     "evalue": "Must write to at least one of ['messages']",
     "output_type": "error",
     "traceback": [
      "\u001b[0;31m---------------------------------------------------------------------------\u001b[0m",
      "\u001b[0;31mInvalidUpdateError\u001b[0m                        Traceback (most recent call last)",
      "\u001b[1;32m/Users/yegyanathanv/Desktop/passion-projects/chatApp/scratch3.ipynb Cell 9\u001b[0m line \u001b[0;36m5\n\u001b[1;32m      <a href='vscode-notebook-cell:/Users/yegyanathanv/Desktop/passion-projects/chatApp/scratch3.ipynb#X11sZmlsZQ%3D%3D?line=0'>1</a>\u001b[0m state \u001b[39m=\u001b[39m ChatState(\n\u001b[1;32m      <a href='vscode-notebook-cell:/Users/yegyanathanv/Desktop/passion-projects/chatApp/scratch3.ipynb#X11sZmlsZQ%3D%3D?line=1'>2</a>\u001b[0m     query\u001b[39m=\u001b[39m\u001b[39m\"\u001b[39m\u001b[39mwhat is my name again\u001b[39m\u001b[39m\"\u001b[39m,\n\u001b[1;32m      <a href='vscode-notebook-cell:/Users/yegyanathanv/Desktop/passion-projects/chatApp/scratch3.ipynb#X11sZmlsZQ%3D%3D?line=2'>3</a>\u001b[0m )\n\u001b[1;32m      <a href='vscode-notebook-cell:/Users/yegyanathanv/Desktop/passion-projects/chatApp/scratch3.ipynb#X11sZmlsZQ%3D%3D?line=3'>4</a>\u001b[0m config \u001b[39m=\u001b[39m {\u001b[39m\"\u001b[39m\u001b[39mconfigurable\u001b[39m\u001b[39m\"\u001b[39m: {\u001b[39m\"\u001b[39m\u001b[39mthread_id\u001b[39m\u001b[39m\"\u001b[39m: \u001b[39m\"\u001b[39m\u001b[39m2\u001b[39m\u001b[39m\"\u001b[39m}}\n\u001b[0;32m----> <a href='vscode-notebook-cell:/Users/yegyanathanv/Desktop/passion-projects/chatApp/scratch3.ipynb#X11sZmlsZQ%3D%3D?line=4'>5</a>\u001b[0m result \u001b[39m=\u001b[39m compiled_graph\u001b[39m.\u001b[39;49minvoke(state, config\u001b[39m=\u001b[39;49mconfig)\n\u001b[1;32m      <a href='vscode-notebook-cell:/Users/yegyanathanv/Desktop/passion-projects/chatApp/scratch3.ipynb#X11sZmlsZQ%3D%3D?line=5'>6</a>\u001b[0m \u001b[39mprint\u001b[39m(result[\u001b[39m'\u001b[39m\u001b[39mresponse\u001b[39m\u001b[39m'\u001b[39m])\n",
      "File \u001b[0;32m~/anaconda3/envs/chatapp/lib/python3.11/site-packages/langgraph/pregel/__init__.py:2069\u001b[0m, in \u001b[0;36mPregel.invoke\u001b[0;34m(self, input, config, stream_mode, output_keys, interrupt_before, interrupt_after, debug, **kwargs)\u001b[0m\n\u001b[1;32m   2067\u001b[0m \u001b[39melse\u001b[39;00m:\n\u001b[1;32m   2068\u001b[0m     chunks \u001b[39m=\u001b[39m []\n\u001b[0;32m-> 2069\u001b[0m \u001b[39mfor\u001b[39;49;00m chunk \u001b[39min\u001b[39;49;00m \u001b[39mself\u001b[39;49m\u001b[39m.\u001b[39;49mstream(\n\u001b[1;32m   2070\u001b[0m     \u001b[39minput\u001b[39;49m,\n\u001b[1;32m   2071\u001b[0m     config,\n\u001b[1;32m   2072\u001b[0m     stream_mode\u001b[39m=\u001b[39;49mstream_mode,\n\u001b[1;32m   2073\u001b[0m     output_keys\u001b[39m=\u001b[39;49moutput_keys,\n\u001b[1;32m   2074\u001b[0m     interrupt_before\u001b[39m=\u001b[39;49minterrupt_before,\n\u001b[1;32m   2075\u001b[0m     interrupt_after\u001b[39m=\u001b[39;49minterrupt_after,\n\u001b[1;32m   2076\u001b[0m     debug\u001b[39m=\u001b[39;49mdebug,\n\u001b[1;32m   2077\u001b[0m     \u001b[39m*\u001b[39;49m\u001b[39m*\u001b[39;49mkwargs,\n\u001b[1;32m   2078\u001b[0m ):\n\u001b[1;32m   2079\u001b[0m     \u001b[39mif\u001b[39;49;00m stream_mode \u001b[39m==\u001b[39;49m \u001b[39m\"\u001b[39;49m\u001b[39mvalues\u001b[39;49m\u001b[39m\"\u001b[39;49m:\n\u001b[1;32m   2080\u001b[0m         latest \u001b[39m=\u001b[39;49m chunk\n",
      "File \u001b[0;32m~/anaconda3/envs/chatapp/lib/python3.11/site-packages/langgraph/pregel/__init__.py:1724\u001b[0m, in \u001b[0;36mPregel.stream\u001b[0;34m(self, input, config, stream_mode, output_keys, interrupt_before, interrupt_after, debug, subgraphs)\u001b[0m\n\u001b[1;32m   1718\u001b[0m     \u001b[39m# Similarly to Bulk Synchronous Parallel / Pregel model\u001b[39;00m\n\u001b[1;32m   1719\u001b[0m     \u001b[39m# computation proceeds in steps, while there are channel updates.\u001b[39;00m\n\u001b[1;32m   1720\u001b[0m     \u001b[39m# Channel updates from step N are only visible in step N+1\u001b[39;00m\n\u001b[1;32m   1721\u001b[0m     \u001b[39m# channels are guaranteed to be immutable for the duration of the step,\u001b[39;00m\n\u001b[1;32m   1722\u001b[0m     \u001b[39m# with channel updates applied only at the transition between steps.\u001b[39;00m\n\u001b[1;32m   1723\u001b[0m     \u001b[39mwhile\u001b[39;00m loop\u001b[39m.\u001b[39mtick(input_keys\u001b[39m=\u001b[39m\u001b[39mself\u001b[39m\u001b[39m.\u001b[39minput_channels):\n\u001b[0;32m-> 1724\u001b[0m         \u001b[39mfor\u001b[39;49;00m _ \u001b[39min\u001b[39;49;00m runner\u001b[39m.\u001b[39;49mtick(\n\u001b[1;32m   1725\u001b[0m             loop\u001b[39m.\u001b[39;49mtasks\u001b[39m.\u001b[39;49mvalues(),\n\u001b[1;32m   1726\u001b[0m             timeout\u001b[39m=\u001b[39;49m\u001b[39mself\u001b[39;49m\u001b[39m.\u001b[39;49mstep_timeout,\n\u001b[1;32m   1727\u001b[0m             retry_policy\u001b[39m=\u001b[39;49m\u001b[39mself\u001b[39;49m\u001b[39m.\u001b[39;49mretry_policy,\n\u001b[1;32m   1728\u001b[0m             get_waiter\u001b[39m=\u001b[39;49mget_waiter,\n\u001b[1;32m   1729\u001b[0m         ):\n\u001b[1;32m   1730\u001b[0m             \u001b[39m# emit output\u001b[39;49;00m\n\u001b[1;32m   1731\u001b[0m             \u001b[39myield from\u001b[39;49;00m output()\n\u001b[1;32m   1732\u001b[0m \u001b[39m# emit output\u001b[39;00m\n",
      "File \u001b[0;32m~/anaconda3/envs/chatapp/lib/python3.11/site-packages/langgraph/pregel/runner.py:230\u001b[0m, in \u001b[0;36mPregelRunner.tick\u001b[0;34m(self, tasks, reraise, timeout, retry_policy, get_waiter)\u001b[0m\n\u001b[1;32m    228\u001b[0m t \u001b[39m=\u001b[39m tasks[\u001b[39m0\u001b[39m]\n\u001b[1;32m    229\u001b[0m \u001b[39mtry\u001b[39;00m:\n\u001b[0;32m--> 230\u001b[0m     run_with_retry(\n\u001b[1;32m    231\u001b[0m         t,\n\u001b[1;32m    232\u001b[0m         retry_policy,\n\u001b[1;32m    233\u001b[0m         configurable\u001b[39m=\u001b[39;49m{\n\u001b[1;32m    234\u001b[0m             CONFIG_KEY_SEND: partial(writer, t),\n\u001b[1;32m    235\u001b[0m             CONFIG_KEY_CALL: partial(call, t),\n\u001b[1;32m    236\u001b[0m         },\n\u001b[1;32m    237\u001b[0m     )\n\u001b[1;32m    238\u001b[0m     \u001b[39mself\u001b[39m\u001b[39m.\u001b[39mcommit(t, \u001b[39mNone\u001b[39;00m)\n\u001b[1;32m    239\u001b[0m \u001b[39mexcept\u001b[39;00m \u001b[39mException\u001b[39;00m \u001b[39mas\u001b[39;00m exc:\n",
      "File \u001b[0;32m~/anaconda3/envs/chatapp/lib/python3.11/site-packages/langgraph/pregel/retry.py:40\u001b[0m, in \u001b[0;36mrun_with_retry\u001b[0;34m(task, retry_policy, configurable)\u001b[0m\n\u001b[1;32m     38\u001b[0m     task\u001b[39m.\u001b[39mwrites\u001b[39m.\u001b[39mclear()\n\u001b[1;32m     39\u001b[0m     \u001b[39m# run the task\u001b[39;00m\n\u001b[0;32m---> 40\u001b[0m     \u001b[39mreturn\u001b[39;00m task\u001b[39m.\u001b[39;49mproc\u001b[39m.\u001b[39;49minvoke(task\u001b[39m.\u001b[39;49minput, config)\n\u001b[1;32m     41\u001b[0m \u001b[39mexcept\u001b[39;00m ParentCommand \u001b[39mas\u001b[39;00m exc:\n\u001b[1;32m     42\u001b[0m     ns: \u001b[39mstr\u001b[39m \u001b[39m=\u001b[39m config[CONF][CONFIG_KEY_CHECKPOINT_NS]\n",
      "File \u001b[0;32m~/anaconda3/envs/chatapp/lib/python3.11/site-packages/langgraph/utils/runnable.py:506\u001b[0m, in \u001b[0;36mRunnableSeq.invoke\u001b[0;34m(self, input, config, **kwargs)\u001b[0m\n\u001b[1;32m    502\u001b[0m config \u001b[39m=\u001b[39m patch_config(\n\u001b[1;32m    503\u001b[0m     config, callbacks\u001b[39m=\u001b[39mrun_manager\u001b[39m.\u001b[39mget_child(\u001b[39mf\u001b[39m\u001b[39m\"\u001b[39m\u001b[39mseq:step:\u001b[39m\u001b[39m{\u001b[39;00mi\u001b[39m \u001b[39m\u001b[39m+\u001b[39m\u001b[39m \u001b[39m\u001b[39m1\u001b[39m\u001b[39m}\u001b[39;00m\u001b[39m\"\u001b[39m)\n\u001b[1;32m    504\u001b[0m )\n\u001b[1;32m    505\u001b[0m \u001b[39mif\u001b[39;00m i \u001b[39m==\u001b[39m \u001b[39m0\u001b[39m:\n\u001b[0;32m--> 506\u001b[0m     \u001b[39minput\u001b[39m \u001b[39m=\u001b[39m step\u001b[39m.\u001b[39;49minvoke(\u001b[39minput\u001b[39;49m, config, \u001b[39m*\u001b[39;49m\u001b[39m*\u001b[39;49mkwargs)\n\u001b[1;32m    507\u001b[0m \u001b[39melse\u001b[39;00m:\n\u001b[1;32m    508\u001b[0m     \u001b[39minput\u001b[39m \u001b[39m=\u001b[39m step\u001b[39m.\u001b[39minvoke(\u001b[39minput\u001b[39m, config)\n",
      "File \u001b[0;32m~/anaconda3/envs/chatapp/lib/python3.11/site-packages/langgraph/utils/runnable.py:262\u001b[0m, in \u001b[0;36mRunnableCallable.invoke\u001b[0;34m(self, input, config, **kwargs)\u001b[0m\n\u001b[1;32m    260\u001b[0m     context \u001b[39m=\u001b[39m copy_context()\n\u001b[1;32m    261\u001b[0m     context\u001b[39m.\u001b[39mrun(_set_config_context, child_config)\n\u001b[0;32m--> 262\u001b[0m     ret \u001b[39m=\u001b[39m context\u001b[39m.\u001b[39;49mrun(\u001b[39mself\u001b[39;49m\u001b[39m.\u001b[39;49mfunc, \u001b[39m*\u001b[39;49margs, \u001b[39m*\u001b[39;49m\u001b[39m*\u001b[39;49mkwargs)\n\u001b[1;32m    263\u001b[0m \u001b[39mexcept\u001b[39;00m \u001b[39mBaseException\u001b[39;00m \u001b[39mas\u001b[39;00m e:\n\u001b[1;32m    264\u001b[0m     run_manager\u001b[39m.\u001b[39mon_chain_error(e)\n",
      "File \u001b[0;32m~/anaconda3/envs/chatapp/lib/python3.11/site-packages/langgraph/pregel/write.py:96\u001b[0m, in \u001b[0;36mChannelWrite._write\u001b[0;34m(self, input, config)\u001b[0m\n\u001b[1;32m     87\u001b[0m \u001b[39mdef\u001b[39;00m\u001b[39m \u001b[39m\u001b[39m_write\u001b[39m(\u001b[39mself\u001b[39m, \u001b[39minput\u001b[39m: Any, config: RunnableConfig) \u001b[39m-\u001b[39m\u001b[39m>\u001b[39m \u001b[39mNone\u001b[39;00m:\n\u001b[1;32m     88\u001b[0m     writes \u001b[39m=\u001b[39m [\n\u001b[1;32m     89\u001b[0m         ChannelWriteEntry(write\u001b[39m.\u001b[39mchannel, \u001b[39minput\u001b[39m, write\u001b[39m.\u001b[39mskip_none, write\u001b[39m.\u001b[39mmapper)\n\u001b[1;32m     90\u001b[0m         \u001b[39mif\u001b[39;00m \u001b[39misinstance\u001b[39m(write, ChannelWriteEntry) \u001b[39mand\u001b[39;00m write\u001b[39m.\u001b[39mvalue \u001b[39mis\u001b[39;00m PASSTHROUGH\n\u001b[0;32m   (...)\u001b[0m\n\u001b[1;32m     94\u001b[0m         \u001b[39mfor\u001b[39;00m write \u001b[39min\u001b[39;00m \u001b[39mself\u001b[39m\u001b[39m.\u001b[39mwrites\n\u001b[1;32m     95\u001b[0m     ]\n\u001b[0;32m---> 96\u001b[0m     \u001b[39mself\u001b[39;49m\u001b[39m.\u001b[39;49mdo_write(\n\u001b[1;32m     97\u001b[0m         config,\n\u001b[1;32m     98\u001b[0m         writes,\n\u001b[1;32m     99\u001b[0m         \u001b[39mself\u001b[39;49m\u001b[39m.\u001b[39;49mrequire_at_least_one_of \u001b[39mif\u001b[39;49;00m \u001b[39minput\u001b[39;49m \u001b[39mis\u001b[39;49;00m \u001b[39mnot\u001b[39;49;00m \u001b[39mNone\u001b[39;49;00m \u001b[39melse\u001b[39;49;00m \u001b[39mNone\u001b[39;49;00m,\n\u001b[1;32m    100\u001b[0m     )\n\u001b[1;32m    101\u001b[0m     \u001b[39mreturn\u001b[39;00m \u001b[39minput\u001b[39m\n",
      "File \u001b[0;32m~/anaconda3/envs/chatapp/lib/python3.11/site-packages/langgraph/pregel/write.py:157\u001b[0m, in \u001b[0;36mChannelWrite.do_write\u001b[0;34m(config, writes, require_at_least_one_of)\u001b[0m\n\u001b[1;32m    155\u001b[0m \u001b[39mif\u001b[39;00m require_at_least_one_of \u001b[39mis\u001b[39;00m \u001b[39mnot\u001b[39;00m \u001b[39mNone\u001b[39;00m:\n\u001b[1;32m    156\u001b[0m     \u001b[39mif\u001b[39;00m \u001b[39mnot\u001b[39;00m {chan \u001b[39mfor\u001b[39;00m chan, _ \u001b[39min\u001b[39;00m tuples} \u001b[39m&\u001b[39m \u001b[39mset\u001b[39m(require_at_least_one_of):\n\u001b[0;32m--> 157\u001b[0m         \u001b[39mraise\u001b[39;00m InvalidUpdateError(\n\u001b[1;32m    158\u001b[0m             \u001b[39mf\u001b[39m\u001b[39m\"\u001b[39m\u001b[39mMust write to at least one of \u001b[39m\u001b[39m{\u001b[39;00mrequire_at_least_one_of\u001b[39m}\u001b[39;00m\u001b[39m\"\u001b[39m\n\u001b[1;32m    159\u001b[0m         )\n\u001b[1;32m    160\u001b[0m write: TYPE_SEND \u001b[39m=\u001b[39m config[CONF][CONFIG_KEY_SEND]\n\u001b[1;32m    161\u001b[0m write(tuples)\n",
      "\u001b[0;31mInvalidUpdateError\u001b[0m: Must write to at least one of ['messages']",
      "\u001b[0mDuring task with name '__start__' and id '4fc8c1fc-d23c-7a92-ea7b-88f121d6e4eb'"
     ]
    }
   ],
   "source": [
    "state = ChatState(\n",
    "    query=\"what is my name again\",\n",
    ")\n",
    "config = {\"configurable\": {\"thread_id\": \"2\"}}\n",
    "result = compiled_graph.invoke(state, config=config)\n",
    "print(result['response'])"
   ]
  },
  {
   "cell_type": "code",
   "execution_count": 10,
   "metadata": {},
   "outputs": [],
   "source": [
    "config = {\"configurable\": {\"thread_id\": \"1\"}}\n",
    "state = compiled_graph.get_state(config).values[\"messages\"]"
   ]
  },
  {
   "cell_type": "code",
   "execution_count": 11,
   "metadata": {},
   "outputs": [
    {
     "data": {
      "text/plain": [
       "[HumanMessage(content='can you find where i work currently in my resume?', additional_kwargs={}, response_metadata={}),\n",
       " AIMessage(content='Based on the previous conversation, I would need to access your resume to find out where you currently work. However, I am a text-based AI and do not have the ability to access or view files or documents. If you can provide the relevant information from your resume, I would be happy to help with any questions or concerns you have.', additional_kwargs={}, response_metadata={})]"
      ]
     },
     "execution_count": 11,
     "metadata": {},
     "output_type": "execute_result"
    }
   ],
   "source": [
    "state"
   ]
  },
  {
   "cell_type": "code",
   "execution_count": null,
   "metadata": {},
   "outputs": [],
   "source": [
    "from langchain_core.prompts import ChatPromptTemplate, MessagesPlaceholder\n",
    "from langchain_core.messages import HumanMessage\n",
    "\n",
    "prompt_template = ChatPromptTemplate([\n",
    "    (\"system\", \"You are a helpful assistant\"),\n",
    "    MessagesPlaceholder(\"msgs\")\n",
    "])\n",
    "\n",
    "prompt_template.invoke({\"msgs\": [HumanMessage(content=\"hi!\")]}).messages"
   ]
  },
  {
   "cell_type": "code",
   "execution_count": 12,
   "metadata": {},
   "outputs": [],
   "source": [
    "import sqlite3\n",
    "from langgraph.checkpoint.sqlite import SqliteSaver\n",
    "from langgraph.graph import StateGraph\n",
    "\n",
    "builder = StateGraph(int)\n",
    "builder.add_node(\"add_one\", lambda x: x + 1)\n",
    "builder.set_entry_point(\"add_one\")\n",
    "builder.set_finish_point(\"add_one\")\n",
    "conn = sqlite3.connect(\"checkpoints.sqlite\")\n",
    "memory = SqliteSaver(conn)\n",
    "graph = builder.compile(checkpointer=memory)\n",
    "\n",
    "# config = {\"configurable\": {\"thread_id\": \"1\"}}\n",
    "# graph.get_state(config)\n",
    "# result = graph.invoke(3, config)\n",
    "# graph.get_state(config)"
   ]
  },
  {
   "cell_type": "code",
   "execution_count": 13,
   "metadata": {},
   "outputs": [
    {
     "name": "stdout",
     "output_type": "stream",
     "text": [
      "[('checkpoints',), ('writes',)]\n"
     ]
    }
   ],
   "source": [
    "cursor = conn.cursor()\n",
    "cursor.execute(\"SELECT name FROM sqlite_master WHERE type='table';\")\n",
    "tables = cursor.fetchall()\n",
    "print(tables)  # List of table names"
   ]
  },
  {
   "cell_type": "code",
   "execution_count": 9,
   "metadata": {},
   "outputs": [
    {
     "name": "stdout",
     "output_type": "stream",
     "text": [
      "(0, 'thread_id', 'TEXT', 1, None, 1)\n",
      "(1, 'checkpoint_ns', 'TEXT', 1, \"''\", 2)\n",
      "(2, 'checkpoint_id', 'TEXT', 1, None, 3)\n",
      "(3, 'parent_checkpoint_id', 'TEXT', 0, None, 0)\n",
      "(4, 'type', 'TEXT', 0, None, 0)\n",
      "(5, 'checkpoint', 'BLOB', 0, None, 0)\n",
      "(6, 'metadata', 'BLOB', 0, None, 0)\n"
     ]
    }
   ],
   "source": [
    "# Get table schema\n",
    "table_name = \"checkpoints\"\n",
    "cursor.execute(f\"PRAGMA table_info({table_name})\")\n",
    "\n",
    "# Fetch and print results\n",
    "columns = cursor.fetchall()\n",
    "for col in columns:\n",
    "    print(col)\n",
    "\n",
    "conn.close()\n"
   ]
  },
  {
   "cell_type": "code",
   "execution_count": 17,
   "metadata": {},
   "outputs": [
    {
     "data": {
      "text/plain": [
       "['1']"
      ]
     },
     "execution_count": 17,
     "metadata": {},
     "output_type": "execute_result"
    }
   ],
   "source": [
    "cursor = conn.cursor()\n",
    "cursor.execute(\"SELECT DISTINCT thread_id FROM checkpoints;\")\n",
    "thread_ids = [tid[0] for tid in cursor.fetchall()]\n",
    "thread_ids"
   ]
  },
  {
   "cell_type": "code",
   "execution_count": null,
   "metadata": {},
   "outputs": [],
   "source": [
    "prompt_template = ChatPromptTemplate([\n",
    "    (\"system\", \"You are a helpful assistant\"),\n",
    "    MessagesPlaceholder(\"messages\")\n",
    "])\n",
    "\n",
    "prompt = ChatPromptTemplate.from_messages([\n",
    "    (\"system\", \"You are a helpful assistant\"),\n",
    "    MessagesPlaceholder(\"messages\"),\n",
    "    (\"human\", \"{prompt}\")\n",
    "])\n",
    "\n",
    "# LLM Node to handle conversation\n",
    "def llm_node(state: ChatState) -> ChatState:\n",
    "    \"\"\"Generate response using LLM while maintaining conversation history.\"\"\"\n",
    "\n",
    "    context_parts = []  # Collect available contexts dynamically\n",
    "    \n",
    "    if state.rag_context:\n",
    "        context_parts.append(f\"RAG Context:\\n{state.rag_context}\")\n",
    "    if state.web_context:\n",
    "        context_parts.append(f\"Web Context:\\n{state.web_context}\")\n",
    "    \n",
    "    # Join all available parts with spacing\n",
    "    context_str = \"\\n\\n\".join(context_parts) if context_parts else \"No additional context available.\"\n",
    "    \n",
    "    # Final formatted string\n",
    "    prompt = f\"User Query:\\n{state.curr_query}\\n\\n{context_str}\"\n",
    "    \n",
    "    # Extract past conversation messages and format as history\n",
    "    prompt = prompt_template.format(messages=state.messages, prompt=prompt)\n",
    "    \n",
    "    # Generate response using LLM\n",
    "    response = llm.invoke(prompt).content\n",
    "    \n",
    "    # Update conversation history\n",
    "    state.messages.append(AIMessage(content=response))\n",
    "    \n",
    "    return {\"messages\": state.messages}"
   ]
  },
  {
   "cell_type": "code",
   "execution_count": null,
   "metadata": {},
   "outputs": [],
   "source": [
    "import os\n",
    "import sqlite3\n",
    "import argparse\n",
    "\n",
    "from pydantic import BaseModel\n",
    "from typing import Optional, List\n",
    "from langchain_groq import ChatGroq\n",
    "from langchain_milvus import Milvus\n",
    "from langgraph.checkpoint.sqlite import SqliteSaver\n",
    "from langchain.schema import HumanMessage, AIMessage\n",
    "from langchain_community.tools import TavilySearchResults\n",
    "from langchain_huggingface import HuggingFaceEmbeddings\n",
    "from langgraph.graph import StateGraph, START, END, add_messages\n",
    "from langchain.prompts import ChatPromptTemplate, MessagesPlaceholder\n",
    "\n",
    "os.environ[\"GROQ_API_KEY\"] = \"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\"\n",
    "os.environ[\"TAVILY_API_KEY\"] = \"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\"\n",
    "\n",
    "########## Defaults ##########\n",
    "\n",
    "TEMPERATURE=0.5\n",
    "LLM_MODEL_NAME=\"mixtral-8x7b-32768\"\n",
    "EMBED_MODEL_NAME=\"sentence-transformers/all-MiniLM-L6-v2\"\n",
    "MILVUS_URI=\"./milvus_example.db\"\n",
    "\n",
    "########## Components ##########\n",
    "\n",
    "print(\"Setting up LLM...\")\n",
    "llm = ChatGroq(temperature=TEMPERATURE, model_name=LLM_MODEL_NAME)\n",
    "\n",
    "print(\"Setting up embed model...\")\n",
    "embeddings = HuggingFaceEmbeddings(model_name=EMBED_MODEL_NAME)\n",
    "\n",
    "print(\"Setting up Milvus vector DB...\")\n",
    "vector_db = Milvus(\n",
    "    embedding_function=embeddings,\n",
    "    connection_args={\"uri\": MILVUS_URI},\n",
    "    index_params={\"index_type\": \"FLAT\", \"metric_type\": \"L2\"},\n",
    "    auto_id=True\n",
    ")\n",
    "\n",
    "print(\"Setting up Tavily tool...\")\n",
    "web_search = TavilySearchResults(\n",
    "    max_results=1,\n",
    "    search_depth=\"advanced\",\n",
    "    include_answer=True,\n",
    "    include_raw_content=True,\n",
    "    include_images=True\n",
    ")"
   ]
  },
  {
   "cell_type": "code",
   "execution_count": null,
   "metadata": {},
   "outputs": [],
   "source": []
  }
 ],
 "metadata": {
  "kernelspec": {
   "display_name": "chatapp",
   "language": "python",
   "name": "python3"
  },
  "language_info": {
   "codemirror_mode": {
    "name": "ipython",
    "version": 3
   },
   "file_extension": ".py",
   "mimetype": "text/x-python",
   "name": "python",
   "nbconvert_exporter": "python",
   "pygments_lexer": "ipython3",
   "version": "3.11.11"
  }
 },
 "nbformat": 4,
 "nbformat_minor": 2
}
